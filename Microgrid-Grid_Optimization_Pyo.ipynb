{
 "cells": [
  {
   "cell_type": "code",
   "execution_count": 138,
   "metadata": {
    "id": "pVV0Xd1NiYGA"
   },
   "outputs": [],
   "source": [
    "import numpy as np\n",
    "import csv\n",
    "import matplotlib.pyplot as plt\n",
    "import math\n",
    "import random\n",
    "import pandas as pd\n",
    "\n",
    "import seaborn as sns\n",
    "from __future__ import division\n",
    "import time\n",
    "from cvxpy import *\n",
    "\n",
    "from distutils.log import error\n",
    "import errno\n",
    "import numpy as np\n",
    "import pandas as pd\n",
    "import time\n",
    "from datetime import date\n",
    "import cvxpy as cp\n",
    "\n",
    "import parameters"
   ]
  },
  {
   "cell_type": "code",
   "execution_count": 139,
   "metadata": {
    "colab": {
     "base_uri": "https://localhost:8080/"
    },
    "id": "Kr-qa_dyHjDP",
    "outputId": "2dad16b9-cce3-4070-b71b-9a59e07c88ed"
   },
   "outputs": [
    {
     "name": "stdout",
     "output_type": "stream",
     "text": [
      "     Time  PV_Output  PV_Percentage  Demand_kW  Grid_Cost\n",
      "0    0:00        0.0            0.0       0.12       0.01\n",
      "1    0:15        0.0            0.0       0.12       0.01\n",
      "2    0:30        0.0            0.0       0.12       0.01\n",
      "3    0:45        0.0            0.0       0.12       0.01\n",
      "4    1:00        0.0            0.0       0.16       0.01\n",
      "..    ...        ...            ...        ...        ...\n",
      "763   NaN        0.0            0.0       0.20       0.01\n",
      "764   NaN        0.0            0.0       0.16       0.01\n",
      "765   NaN        0.0            0.0       0.16       0.01\n",
      "766   NaN        0.0            0.0       0.16       0.01\n",
      "767   NaN        0.0            0.0       0.16       0.01\n",
      "\n",
      "[768 rows x 5 columns]\n"
     ]
    }
   ],
   "source": [
    "User_PV_Data = pd.read_csv('./Solar_Demand.csv')\n",
    "\n",
    "# get_all_values gives a list of rows.\n",
    "\n",
    "\n",
    "userdata = np.array(User_PV_Data.values)\n",
    "\n",
    "\n",
    "print(User_PV_Data)"
   ]
  },
  {
   "cell_type": "code",
   "execution_count": 140,
   "metadata": {
    "scrolled": true
   },
   "outputs": [],
   "source": [
    "prof=pd.Series(dtype='object')\n",
    "\n",
    "prof.loc['Solar']=User_PV_Data.iloc[:, 1]\n",
    "prof.loc['Load']=User_PV_Data.iloc[:, 3]\n",
    "prof.loc['Price']=User_PV_Data.iloc[:, 4]*100\n",
    "\n",
    "N=prof.Load.shape[0]"
   ]
  },
  {
   "cell_type": "code",
   "execution_count": 141,
   "metadata": {},
   "outputs": [
    {
     "data": {
      "text/plain": [
       "0      0.12\n",
       "1      0.12\n",
       "2      0.12\n",
       "3      0.12\n",
       "4      0.16\n",
       "       ... \n",
       "763    0.20\n",
       "764    0.16\n",
       "765    0.16\n",
       "766    0.16\n",
       "767    0.16\n",
       "Name: Demand_kW, Length: 768, dtype: float64"
      ]
     },
     "execution_count": 141,
     "metadata": {},
     "output_type": "execute_result"
    }
   ],
   "source": [
    "prof.Load"
   ]
  },
  {
   "cell_type": "code",
   "execution_count": 142,
   "metadata": {},
   "outputs": [],
   "source": [
    "net = prof.Load-prof.Solar\n",
    "# split load into +ve and -ve\n",
    "posLoad = np.copy(net)\n",
    "negLoad = np.copy(net)\n",
    "for j,e in enumerate(net):\n",
    "    if e>=0:\n",
    "        negLoad[j]=0\n",
    "    else:\n",
    "        posLoad[j]=0\n",
    "posLoadDict = dict(enumerate(posLoad))\n",
    "negLoadDict = dict(enumerate(negLoad))"
   ]
  },
  {
   "cell_type": "code",
   "execution_count": 143,
   "metadata": {},
   "outputs": [],
   "source": [
    "import pyomo.environ as pyo"
   ]
  },
  {
   "cell_type": "code",
   "execution_count": 144,
   "metadata": {},
   "outputs": [],
   "source": [
    "m = pyo.ConcreteModel()\n",
    "\n",
    "m.Time = pyo.Set(initialize=pyo.RangeSet(N),ordered=True)\n",
    "\n",
    "#scalar parameters\n",
    "m.Kpv = pyo.Param(initialize=.03) # Solar capacity cost ($/kW)\n",
    "m.Kb = pyo.Param(initialize= .25) # Battery capacity cost ($/kWh)\n",
    "m.VCC = pyo.Param(initialize= 75) # Battery discharge cost ($/MWh)\n",
    "m.nu =pyo.Param(initialize= 0.85) # Battery efficiency\n",
    "m.r = pyo.Param(initialize= 0.004) # Real interest rate\n",
    "m.b_min_cap = pyo.Param(initialize= 0) # min battery cap\n",
    "\n",
    "#time indexed parameters\n",
    "m.grid_cost = pyo.Param(m.Time,initialize=dict(enumerate(prof.Price,1)),within=pyo.Any)\n",
    "m.demand = pyo.Param(m.Time,initialize=dict(enumerate(prof.Load,1)),within=pyo.Any)\n",
    "m.solar = pyo.Param(m.Time,initialize=dict(enumerate(prof.Solar,1)),within=pyo.Any)\n",
    "m.negLoad = pyo.Param(m.Time, initialize=dict(enumerate(negLoad,1)), within=pyo.Any)\n",
    "m.posLoad = pyo.Param(m.Time, initialize=dict(enumerate(posLoad,1)), within=pyo.Any)"
   ]
  },
  {
   "cell_type": "code",
   "execution_count": 145,
   "metadata": {
    "scrolled": true
   },
   "outputs": [],
   "source": [
    "#time indexed Variables\n",
    "m.SOC= pyo.Var(m.Time, domain=pyo.NonNegativeReals, initialize=0) # Battery state of charge at step k (MWh)\n",
    "m.Bc = pyo.Var(m.Time, initialize=0) # Battery charge at step k (MWh)\n",
    "m.Bd = pyo.Var(m.Time, initialize=0, domain=pyo.NonNegativeReals) # Battery dischcharge at step k (MWh)\n",
    "m.Gi = pyo.Var(m.Time, initialize = dict(enumerate(posLoad,1)), domain=pyo.NonNegativeReals) # Grid energy import at step k (MWh)\n",
    "m.Ge = pyo.Var(m.Time, initialize = dict(enumerate(negLoad,1)), domain=pyo.NonNegativeReals) \n",
    "m.Dpv = pyo.Var(m.Time, domain=pyo.NonNegativeReals) # Curtailed PV production at step k (MWh)\n",
    "m.Dl =pyo.Var(m.Time, domain=pyo.NonNegativeReals) # Cutailed load at step k (MWh)\n",
    "m.X =pyo.Var(m.Time, initialize=0, domain=pyo.NonNegativeReals) # Solar capacity MW\n",
    "m.Y = pyo.Var(m.Time, initialize=0, domain=pyo.NonNegativeReals) # Battery capacity MWh\n"
   ]
  },
  {
   "cell_type": "code",
   "execution_count": 146,
   "metadata": {},
   "outputs": [],
   "source": [
    "#CONSTRAINTS\n",
    "#Purchase constraint\n",
    "def purchase_constraint(m,k):\n",
    "    return m.Gi[k] == m.demand[k] - m.Bd[k] + m.Bc[k] - m.X[k]*m.solar[k] + m.Ge[k]\n",
    "\n",
    "def panel_constraint(m,k):\n",
    "    if m.solar[k]>0:\n",
    "        return m.X[k]*m.solar[k]>= 1\n",
    "    else:\n",
    "        return pyo.Constraint.Skip\n",
    "\n",
    "#State of charge constraint\n",
    "def soc_constraint(m,k):\n",
    "    m.SOC[1]==m.Y[1]\n",
    "    if k<=95:\n",
    "        return (m.SOC[k+1]==m.SOC[k] + m.Bc[k]*m.nu - m.Bd[k]*m.nu)\n",
    "    else:\n",
    "        return (m.SOC[k]==m.SOC[k] + m.Bc[k]*m.nu - m.Bd[k]*m.nu)\n",
    "    \n",
    "#Discharge and charge constraints\n",
    "def discharge_constraint_1(m,k):\n",
    "    \"\"\" Maximum discharge rate within time set k\"\"\"\n",
    "    return m.Bd[k] <= m.Y[k]/4\n",
    "\n",
    "def discharge_constraint_2(m,k):\n",
    "    \"\"\" Sets the maximum energy available to be discharged as the SOC - minimum SOC \"\"\"\n",
    "    return m.Bd[k] <= m.SOC[k] \n",
    "\n",
    "def charge_constraint_1(m,k):\n",
    "    \"\"\" Maximum charge rate within a single hour \"\"\"\n",
    "    return m.Bc[k] <= m.Y[k]/4\n",
    "\n",
    "def charge_constraint_2(m,k):\n",
    "    \"\"\" Sets the maximum energy available to be cahrge as the SOC max \"\"\"\n",
    "    return m.Bc[k]  <= m.Y[k] - m.SOC[k]\n"
   ]
  },
  {
   "cell_type": "code",
   "execution_count": 147,
   "metadata": {},
   "outputs": [
    {
     "name": "stdout",
     "output_type": "stream",
     "text": [
      "WARNING: Constant objective detected, replacing with a placeholder to prevent\n",
      "    solver failure.\n",
      "# ==========================================================\n",
      "# = Solver Results                                         =\n",
      "# ==========================================================\n",
      "# ----------------------------------------------------------\n",
      "#   Problem Information\n",
      "# ----------------------------------------------------------\n",
      "Problem: \n",
      "- Name: unknown\n",
      "  Lower bound: 2867.76799999999\n",
      "  Upper bound: 2867.76799999999\n",
      "  Number of objectives: 1\n",
      "  Number of constraints: 5081\n",
      "  Number of variables: 5081\n",
      "  Number of nonzeros: 12655\n",
      "  Sense: minimize\n",
      "# ----------------------------------------------------------\n",
      "#   Solver Information\n",
      "# ----------------------------------------------------------\n",
      "Solver: \n",
      "- Status: ok\n",
      "  Termination condition: optimal\n",
      "  Statistics: \n",
      "    Branch and bound: \n",
      "      Number of bounded subproblems: 0\n",
      "      Number of created subproblems: 0\n",
      "  Error rc: 0\n",
      "  Time: 0.1474015712738037\n",
      "# ----------------------------------------------------------\n",
      "#   Solution Information\n",
      "# ----------------------------------------------------------\n",
      "Solution: \n",
      "- number of solutions: 0\n",
      "  number of solutions displayed: 0\n"
     ]
    },
    {
     "data": {
      "text/plain": [
       "[<matplotlib.lines.Line2D at 0x25295565b80>]"
      ]
     },
     "execution_count": 147,
     "metadata": {},
     "output_type": "execute_result"
    },
    {
     "data": {
      "image/png": "[encoded data removed]",
      "text/plain": [
       "<Figure size 432x288 with 1 Axes>"
      ]
     },
     "metadata": {
      "needs_background": "light"
     },
     "output_type": "display_data"
    }
   ],
   "source": [
    "#constraints\n",
    "m.Gi_c = pyo.Constraint(m.Time, rule = purchase_constraint)\n",
    "m.SOC_c = pyo.Constraint(m.Time, rule = soc_constraint)\n",
    "m.Bd_c1 = pyo.Constraint(m.Time, rule = discharge_constraint_1)\n",
    "m.Bd_c2 = pyo.Constraint(m.Time,rule = discharge_constraint_2)\n",
    "m.Bc_c1 = pyo.Constraint(m.Time,rule = charge_constraint_1)\n",
    "m.Bc_c2 = pyo.Constraint(m.Time,rule = charge_constraint_2)\n",
    "m.X_c = pyo.Constraint(m.Time,rule = panel_constraint)\n",
    "\n",
    "#OBJECTIVE \n",
    "m.objective = pyo.Objective(expr = sum([(m.Gi[k].value*m.grid_cost[k] +m.X[k].value*m.Kpv/N + m.Y[k].value*m.Kb/N) for k in m.Time]), sense = pyo.minimize)   \n",
    " \n",
    "opt = pyo.SolverFactory('glpk')\n",
    "results = opt.solve(m)\n",
    "results.write()\n",
    " \n",
    "x=[pyo.value(m.X[1])]\n",
    "y=[pyo.value(m.Y[1])]\n",
    "\n",
    "for t in m.Time:\n",
    "    if t < N:\n",
    "        x.append(pyo.value(m.X[t+1]))\n",
    "        y.append(pyo.value(m.Y[t+1]))\n",
    "plt.plot(x)\n",
    "plt.plot(y)\n",
    "\n"
   ]
  }
 ],
 "metadata": {
  "colab": {
   "collapsed_sections": [],
   "name": "Component_Opt.ipynb",
   "provenance": []
  },
  "kernelspec": {
   "display_name": "Python 3 (ipykernel)",
   "language": "python",
   "name": "python3"
  },
  "language_info": {
   "codemirror_mode": {
    "name": "ipython",
    "version": 3
   },
   "file_extension": ".py",
   "mimetype": "text/x-python",
   "name": "python",
   "nbconvert_exporter": "python",
   "pygments_lexer": "ipython3",
   "version": "3.9.10"
  }
 },
 "nbformat": 4,
 "nbformat_minor": 1
}
