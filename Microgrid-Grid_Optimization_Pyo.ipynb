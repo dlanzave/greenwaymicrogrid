{
 "cells": [
  {
   "cell_type": "code",
   "execution_count": 1,
   "metadata": {
    "id": "pVV0Xd1NiYGA"
   },
   "outputs": [],
   "source": [
    "import numpy as np\n",
    "import csv\n",
    "import matplotlib.pyplot as plt\n",
    "import math\n",
    "import random\n",
    "import pandas as pd\n",
    "\n",
    "import seaborn as sns\n",
    "from __future__ import division\n",
    "import time\n",
    "from cvxpy import *\n",
    "\n",
    "from distutils.log import error\n",
    "import errno\n",
    "import numpy as np\n",
    "import pandas as pd\n",
    "import time\n",
    "from datetime import date\n",
    "import cvxpy as cp\n",
    "\n",
    "import parameters"
   ]
  },
  {
   "cell_type": "code",
   "execution_count": 2,
   "metadata": {
    "colab": {
     "base_uri": "https://localhost:8080/"
    },
    "id": "Kr-qa_dyHjDP",
    "outputId": "2dad16b9-cce3-4070-b71b-9a59e07c88ed"
   },
   "outputs": [
    {
     "name": "stdout",
     "output_type": "stream",
     "text": [
      "     Time  PV_Output  PV_Percentage  Demand_kW  Grid_Cost  Unnamed: 5  \\\n",
      "0    0:00        0.0            0.0       0.12       0.01         NaN   \n",
      "1    0:15        0.0            0.0       0.12       0.01         NaN   \n",
      "2    0:30        0.0            0.0       0.12       0.01         NaN   \n",
      "3    0:45        0.0            0.0       0.12       0.01         NaN   \n",
      "4    1:00        0.0            0.0       0.16       0.01         NaN   \n",
      "..    ...        ...            ...        ...        ...         ...   \n",
      "91  22:45        0.0            0.0       0.20       0.01         NaN   \n",
      "92  23:00        0.0            0.0       0.16       0.01         NaN   \n",
      "93  23:15        0.0            0.0       0.16       0.01         NaN   \n",
      "94  23:30        0.0            0.0       0.16       0.01         NaN   \n",
      "95  23:45        0.0            0.0       0.16       0.01         NaN   \n",
      "\n",
      "    Unnamed: 6  \n",
      "0          NaN  \n",
      "1          NaN  \n",
      "2          NaN  \n",
      "3          NaN  \n",
      "4          NaN  \n",
      "..         ...  \n",
      "91         NaN  \n",
      "92         NaN  \n",
      "93         NaN  \n",
      "94         NaN  \n",
      "95         NaN  \n",
      "\n",
      "[96 rows x 7 columns]\n"
     ]
    }
   ],
   "source": [
    "User_PV_Data = pd.read_csv('./Solar_Demand.csv')\n",
    "\n",
    "# get_all_values gives a list of rows.\n",
    "\n",
    "\n",
    "userdata = np.array(User_PV_Data.values)\n",
    "\n",
    "\n",
    "print(User_PV_Data)"
   ]
  },
  {
   "cell_type": "code",
   "execution_count": 3,
   "metadata": {},
   "outputs": [
    {
     "data": {
      "text/html": [
       "<div>\n",
       "<style scoped>\n",
       "    .dataframe tbody tr th:only-of-type {\n",
       "        vertical-align: middle;\n",
       "    }\n",
       "\n",
       "    .dataframe tbody tr th {\n",
       "        vertical-align: top;\n",
       "    }\n",
       "\n",
       "    .dataframe thead th {\n",
       "        text-align: right;\n",
       "    }\n",
       "</style>\n",
       "<table border=\"1\" class=\"dataframe\">\n",
       "  <thead>\n",
       "    <tr style=\"text-align: right;\">\n",
       "      <th></th>\n",
       "      <th>B_bar</th>\n",
       "      <th>B_P</th>\n",
       "      <th>eta_b_c</th>\n",
       "      <th>eta_b_d</th>\n",
       "    </tr>\n",
       "    <tr>\n",
       "      <th>ID</th>\n",
       "      <th></th>\n",
       "      <th></th>\n",
       "      <th></th>\n",
       "      <th></th>\n",
       "    </tr>\n",
       "  </thead>\n",
       "  <tbody>\n",
       "    <tr>\n",
       "      <th>1</th>\n",
       "      <td>200</td>\n",
       "      <td>50.0</td>\n",
       "      <td>0.95</td>\n",
       "      <td>0.95</td>\n",
       "    </tr>\n",
       "    <tr>\n",
       "      <th>2</th>\n",
       "      <td>300</td>\n",
       "      <td>75.0</td>\n",
       "      <td>0.95</td>\n",
       "      <td>0.95</td>\n",
       "    </tr>\n",
       "    <tr>\n",
       "      <th>3</th>\n",
       "      <td>600</td>\n",
       "      <td>150.0</td>\n",
       "      <td>0.95</td>\n",
       "      <td>0.95</td>\n",
       "    </tr>\n",
       "    <tr>\n",
       "      <th>4</th>\n",
       "      <td>100</td>\n",
       "      <td>25.0</td>\n",
       "      <td>0.95</td>\n",
       "      <td>0.95</td>\n",
       "    </tr>\n",
       "    <tr>\n",
       "      <th>5</th>\n",
       "      <td>100</td>\n",
       "      <td>25.0</td>\n",
       "      <td>0.95</td>\n",
       "      <td>0.95</td>\n",
       "    </tr>\n",
       "    <tr>\n",
       "      <th>6</th>\n",
       "      <td>10</td>\n",
       "      <td>2.5</td>\n",
       "      <td>0.95</td>\n",
       "      <td>0.95</td>\n",
       "    </tr>\n",
       "    <tr>\n",
       "      <th>7</th>\n",
       "      <td>1500</td>\n",
       "      <td>375.0</td>\n",
       "      <td>0.95</td>\n",
       "      <td>0.95</td>\n",
       "    </tr>\n",
       "    <tr>\n",
       "      <th>8</th>\n",
       "      <td>400</td>\n",
       "      <td>100.0</td>\n",
       "      <td>0.95</td>\n",
       "      <td>0.95</td>\n",
       "    </tr>\n",
       "    <tr>\n",
       "      <th>9</th>\n",
       "      <td>10</td>\n",
       "      <td>2.5</td>\n",
       "      <td>0.95</td>\n",
       "      <td>0.95</td>\n",
       "    </tr>\n",
       "    <tr>\n",
       "      <th>10</th>\n",
       "      <td>100</td>\n",
       "      <td>25.0</td>\n",
       "      <td>0.95</td>\n",
       "      <td>0.95</td>\n",
       "    </tr>\n",
       "    <tr>\n",
       "      <th>11</th>\n",
       "      <td>300</td>\n",
       "      <td>75.0</td>\n",
       "      <td>0.95</td>\n",
       "      <td>0.95</td>\n",
       "    </tr>\n",
       "    <tr>\n",
       "      <th>12</th>\n",
       "      <td>1200</td>\n",
       "      <td>300.0</td>\n",
       "      <td>0.95</td>\n",
       "      <td>0.95</td>\n",
       "    </tr>\n",
       "    <tr>\n",
       "      <th>13</th>\n",
       "      <td>20</td>\n",
       "      <td>5.0</td>\n",
       "      <td>0.95</td>\n",
       "      <td>0.95</td>\n",
       "    </tr>\n",
       "    <tr>\n",
       "      <th>14</th>\n",
       "      <td>3000</td>\n",
       "      <td>750.0</td>\n",
       "      <td>0.95</td>\n",
       "      <td>0.95</td>\n",
       "    </tr>\n",
       "    <tr>\n",
       "      <th>15</th>\n",
       "      <td>800</td>\n",
       "      <td>200.0</td>\n",
       "      <td>0.95</td>\n",
       "      <td>0.95</td>\n",
       "    </tr>\n",
       "  </tbody>\n",
       "</table>\n",
       "</div>"
      ],
      "text/plain": [
       "    B_bar    B_P  eta_b_c  eta_b_d\n",
       "ID                                \n",
       "1     200   50.0     0.95     0.95\n",
       "2     300   75.0     0.95     0.95\n",
       "3     600  150.0     0.95     0.95\n",
       "4     100   25.0     0.95     0.95\n",
       "5     100   25.0     0.95     0.95\n",
       "6      10    2.5     0.95     0.95\n",
       "7    1500  375.0     0.95     0.95\n",
       "8     400  100.0     0.95     0.95\n",
       "9      10    2.5     0.95     0.95\n",
       "10    100   25.0     0.95     0.95\n",
       "11    300   75.0     0.95     0.95\n",
       "12   1200  300.0     0.95     0.95\n",
       "13     20    5.0     0.95     0.95\n",
       "14   3000  750.0     0.95     0.95\n",
       "15    800  200.0     0.95     0.95"
      ]
     },
     "execution_count": 3,
     "metadata": {},
     "output_type": "execute_result"
    }
   ],
   "source": [
    "Battery_Data = pd.read_csv('./BattData.csv', index_col=0)\n",
    "\n",
    "# get_all_values gives a list of rows.\n",
    "\n",
    "\n",
    "#data = np.array(Battery_Data.values)\n",
    "\n",
    "\n",
    "Battery_Data\n",
    "\n"
   ]
  },
  {
   "cell_type": "code",
   "execution_count": 4,
   "metadata": {},
   "outputs": [
    {
     "data": {
      "text/plain": [
       "B_bar      10.00\n",
       "B_P         2.50\n",
       "eta_b_c     0.95\n",
       "eta_b_d     0.95\n",
       "Name: 6, dtype: float64"
      ]
     },
     "execution_count": 4,
     "metadata": {},
     "output_type": "execute_result"
    }
   ],
   "source": [
    "site_id = 6\n",
    "BattParam = Battery_Data.loc[site_id]\n",
    "BattParam"
   ]
  },
  {
   "cell_type": "code",
   "execution_count": 5,
   "metadata": {},
   "outputs": [],
   "source": [
    "class Battery(object):\n",
    "    \"\"\" Used to store information about the battery.\n",
    "       :param current_charge: is the initial state of charge of the battery\n",
    "       :param capacity: is the battery capacity in kWh\n",
    "       :param charging_power_limit: the limit of the power that can charge the battery in kW\n",
    "       :param discharging_power_limit: the limit of the power that can discharge the battery in kW\n",
    "       :param battery_charging_efficiency: The efficiecny of the battery when charging\n",
    "       :param battery_discharing_efficiecny: The discharging efficiency\n",
    "    \"\"\"\n",
    "    def __init__(self,\n",
    "                 current_charge=0.0,\n",
    "                 capacity=0.0,\n",
    "                 charging_power_limit=1.0,\n",
    "                 discharging_power_limit=-1.0,\n",
    "                 charging_efficiency=0.95,\n",
    "                 discharging_efficiency=0.95):\n",
    "        self.current_charge = current_charge\n",
    "        self.capacity = capacity\n",
    "        self.charging_power_limit = charging_power_limit\n",
    "        self.discharging_power_limit = discharging_power_limit\n",
    "        self.charging_efficiency = charging_efficiency\n",
    "        self.discharging_efficiency = discharging_efficiency"
   ]
  },
  {
   "cell_type": "code",
   "execution_count": 6,
   "metadata": {},
   "outputs": [
    {
     "data": {
      "text/plain": [
       "10.0"
      ]
     },
     "execution_count": 6,
     "metadata": {},
     "output_type": "execute_result"
    }
   ],
   "source": [
    "batt_id = 1\n",
    "# use battery class to store information\n",
    "batt = Battery(capacity=BattParam[\"B_bar\"], charging_power_limit=BattParam[\"B_P\"], \n",
    "               discharging_power_limit=-1*BattParam[\"B_P\"], \n",
    "               charging_efficiency=BattParam[\"eta_b_c\"], \n",
    "               discharging_efficiency=BattParam[\"eta_b_d\"])\n",
    "\n",
    "batt.capacity"
   ]
  },
  {
   "cell_type": "code",
   "execution_count": 7,
   "metadata": {
    "scrolled": true
   },
   "outputs": [],
   "source": [
    "prof=pd.Series(dtype='object')\n",
    "\n",
    "prof.loc['Solar']=User_PV_Data.iloc[:, 1]\n",
    "prof.loc['Load']=User_PV_Data.iloc[:, 3]\n",
    "prof.loc['Price']=User_PV_Data.iloc[:, 4]*100\n",
    "\n",
    "N=prof.Load.shape[0]"
   ]
  },
  {
   "cell_type": "code",
   "execution_count": 8,
   "metadata": {},
   "outputs": [
    {
     "data": {
      "text/plain": [
       "0     0.12\n",
       "1     0.12\n",
       "2     0.12\n",
       "3     0.12\n",
       "4     0.16\n",
       "      ... \n",
       "91    0.20\n",
       "92    0.16\n",
       "93    0.16\n",
       "94    0.16\n",
       "95    0.16\n",
       "Name: Demand_kW, Length: 96, dtype: float64"
      ]
     },
     "execution_count": 8,
     "metadata": {},
     "output_type": "execute_result"
    }
   ],
   "source": [
    "prof.Load"
   ]
  },
  {
   "cell_type": "code",
   "execution_count": 46,
   "metadata": {},
   "outputs": [],
   "source": [
    "net = prof.Load-prof.Solar\n",
    "# split load into +ve and -ve\n",
    "posLoad = np.copy(net)\n",
    "negLoad = np.copy(net)\n",
    "for j,e in enumerate(net):\n",
    "    if e>=0:\n",
    "        negLoad[j]=0\n",
    "    else:\n",
    "        posLoad[j]=0\n",
    "posLoadDict = dict(enumerate(posLoad))\n",
    "negLoadDict = dict(enumerate(negLoad))"
   ]
  },
  {
   "cell_type": "code",
   "execution_count": 47,
   "metadata": {},
   "outputs": [],
   "source": [
    "import pyomo.environ as pyo"
   ]
  },
  {
   "cell_type": "code",
   "execution_count": 48,
   "metadata": {},
   "outputs": [],
   "source": [
    "m = pyo.ConcreteModel()\n",
    "\n",
    "m.Time = pyo.Set(initialize=pyo.RangeSet(N),ordered=True)\n",
    "\n",
    "#scalar parameters\n",
    "m.Kpv = pyo.Param(initialize=.03) # Solar capacity cost ($/kW)\n",
    "m.Kb = pyo.Param(initialize= .25) # Battery capacity cost ($/kWh)\n",
    "m.VCC = pyo.Param(initialize= 75) # Battery discharge cost ($/MWh)\n",
    "m.nu =pyo.Param(initialize= 0.85) # Battery efficiency\n",
    "m.r = pyo.Param(initialize= 0.004) # Real interest rate\n",
    "m.b_min_cap = pyo.Param(initialize= 0) # min battery cap\n",
    "\n",
    "#time indexed parameters\n",
    "m.grid_cost = pyo.Param(m.Time,initialize=dict(enumerate(prof.Price,1)),within=pyo.Any)\n",
    "m.demand = pyo.Param(m.Time,initialize=dict(enumerate(prof.Load,1)),within=pyo.Any)\n",
    "m.solar = pyo.Param(m.Time,initialize=dict(enumerate(prof.Solar,1)),within=pyo.Any)"
   ]
  },
  {
   "cell_type": "code",
   "execution_count": 49,
   "metadata": {
    "scrolled": true
   },
   "outputs": [],
   "source": [
    "#time indexed Variables\n",
    "m.SOC= pyo.Var(m.Time, bounds=(0,batt.capacity), initialize=batt.capacity) # Battery state of charge at step k (MWh)\n",
    "m.Bc = pyo.Var(m.Time, initialize=0) # Battery charge at step k (MWh)\n",
    "m.Bd = pyo.Var(m.Time, initialize=0, domain=pyo.NonNegativeReals) # Battery dischcharge at step k (MWh)\n",
    "m.Gi = pyo.Var(m.Time, initialize = dict(enumerate(posLoad,1)), domain=pyo.NonNegativeReals) # Grid energy import at step k (MWh)\n",
    "m.Ge = pyo.Var(m.Time, initialize = dict(enumerate(negLoad,1)), domain=pyo.NonNegativeReals) \n",
    "m.Dpv = pyo.Var(m.Time, domain=pyo.NonNegativeReals) # Curtailed PV production at step k (MWh)\n",
    "m.Dl =pyo.Var(m.Time, domain=pyo.NonNegativeReals) # Cutailed load at step k (MWh)\n",
    "m.X =pyo.Var(m.Time, domain=pyo.NonNegativeReals) # Solar capacity MW\n",
    "m.Y = pyo.Var(m.Time, domain=pyo.NonNegativeReals) # Battery capacity MWh\n"
   ]
  },
  {
   "cell_type": "code",
   "execution_count": 72,
   "metadata": {},
   "outputs": [],
   "source": [
    "#CONSTRAINTS\n",
    "#Purchase constraint\n",
    "def purchase_constraint(m,k):\n",
    "    return m.Gi[k] == m.demand[k] - m.Bd[k] + m.Bc[k] - m.X[k]*m.solar[k] + m.Ge[k]\n",
    "\n",
    "def panel_constraint(m,k):\n",
    "     return m.X[k]*m.solar[k]> 0\n",
    "\n",
    "#State of charge constraint\n",
    "def soc_constraint(m,k):\n",
    "#     m.SOC[0]==Y\n",
    "    if k<=95:\n",
    "        return (m.SOC[k+1]==m.SOC[k] + m.Bc[k]*m.nu - m.Bd[k]*m.nu)\n",
    "    else:\n",
    "        return (m.SOC[k]==m.SOC[k] + m.Bc[k]*m.nu - m.Bd[k]*m.nu)\n",
    "    \n",
    "#Discharge and charge constraints\n",
    "def discharge_constraint_1(m,k):\n",
    "    \"\"\" Maximum discharge rate within time set k\"\"\"\n",
    "    return m.Bd[k] <= m.Y[k]/4\n",
    "\n",
    "def discharge_constraint_2(m,k):\n",
    "    \"\"\" Sets the maximum energy available to be discharged as the SOC - minimum SOC \"\"\"\n",
    "    return m.Bd[k] <= m.SOC[k] \n",
    "\n",
    "def charge_constraint_1(m,k):\n",
    "    \"\"\" Maximum charge rate within a single hour \"\"\"\n",
    "    return m.Bc[k] <= m.Y[k]/4\n",
    "\n",
    "def charge_constraint_2(m,k):\n",
    "    \"\"\" Sets the maximum energy available to be cahrge as the SOC max \"\"\"\n",
    "    return m.Bc[k]  <= m.Y[k] - m.SOC[k]\n",
    "\n"
   ]
  },
  {
   "cell_type": "code",
   "execution_count": 73,
   "metadata": {},
   "outputs": [
    {
     "name": "stdout",
     "output_type": "stream",
     "text": [
      "WARNING: Implicitly replacing the Component attribute Gi_c (type=<class\n",
      "    'pyomo.core.base.constraint.IndexedConstraint'>) on block unknown with a\n",
      "    new Component (type=<class\n",
      "    'pyomo.core.base.constraint.IndexedConstraint'>). This is usually\n",
      "    indicative of a modelling error. To avoid this warning, use\n",
      "    block.del_component() and block.add_component().\n",
      "WARNING: Implicitly replacing the Component attribute SOC_c (type=<class\n",
      "    'pyomo.core.base.constraint.IndexedConstraint'>) on block unknown with a\n",
      "    new Component (type=<class\n",
      "    'pyomo.core.base.constraint.IndexedConstraint'>). This is usually\n",
      "    indicative of a modelling error. To avoid this warning, use\n",
      "    block.del_component() and block.add_component().\n",
      "WARNING: Implicitly replacing the Component attribute Bd_c1 (type=<class\n",
      "    'pyomo.core.base.constraint.IndexedConstraint'>) on block unknown with a\n",
      "    new Component (type=<class\n",
      "    'pyomo.core.base.constraint.IndexedConstraint'>). This is usually\n",
      "    indicative of a modelling error. To avoid this warning, use\n",
      "    block.del_component() and block.add_component().\n",
      "WARNING: Implicitly replacing the Component attribute Bd_c2 (type=<class\n",
      "    'pyomo.core.base.constraint.IndexedConstraint'>) on block unknown with a\n",
      "    new Component (type=<class\n",
      "    'pyomo.core.base.constraint.IndexedConstraint'>). This is usually\n",
      "    indicative of a modelling error. To avoid this warning, use\n",
      "    block.del_component() and block.add_component().\n",
      "WARNING: Implicitly replacing the Component attribute Bc_c1 (type=<class\n",
      "    'pyomo.core.base.constraint.IndexedConstraint'>) on block unknown with a\n",
      "    new Component (type=<class\n",
      "    'pyomo.core.base.constraint.IndexedConstraint'>). This is usually\n",
      "    indicative of a modelling error. To avoid this warning, use\n",
      "    block.del_component() and block.add_component().\n",
      "WARNING: Implicitly replacing the Component attribute Bc_c2 (type=<class\n",
      "    'pyomo.core.base.constraint.IndexedConstraint'>) on block unknown with a\n",
      "    new Component (type=<class\n",
      "    'pyomo.core.base.constraint.IndexedConstraint'>). This is usually\n",
      "    indicative of a modelling error. To avoid this warning, use\n",
      "    block.del_component() and block.add_component().\n",
      "WARNING: Implicitly replacing the Component attribute X_c (type=<class\n",
      "    'pyomo.core.base.constraint.IndexedConstraint'>) on block unknown with a\n",
      "    new Component (type=<class\n",
      "    'pyomo.core.base.constraint.IndexedConstraint'>). This is usually\n",
      "    indicative of a modelling error. To avoid this warning, use\n",
      "    block.del_component() and block.add_component().\n",
      "ERROR: Rule failed when generating expression for Constraint X_c with index 1:\n",
      "    ValueError: Invalid constraint expression. The constraint expression\n",
      "    resolved to a trivial Boolean (False) instead of a Pyomo object. Please\n",
      "    modify your rule to return Constraint.Infeasible instead of False.\n",
      "\n",
      "    Error thrown for Constraint 'X_c[1]'\n",
      "ERROR: Constructing component 'X_c' from data=None failed: ValueError: Invalid\n",
      "    constraint expression. The constraint expression resolved to a trivial\n",
      "    Boolean (False) instead of a Pyomo object. Please modify your rule to\n",
      "    return Constraint.Infeasible instead of False.\n",
      "\n",
      "    Error thrown for Constraint 'X_c[1]'\n"
     ]
    },
    {
     "ename": "ValueError",
     "evalue": "Invalid constraint expression. The constraint expression resolved to a trivial Boolean (False) instead of a Pyomo object. Please modify your rule to return Constraint.Infeasible instead of False.\n\nError thrown for Constraint 'X_c[1]'",
     "output_type": "error",
     "traceback": [
      "\u001b[1;31m---------------------------------------------------------------------------\u001b[0m",
      "\u001b[1;31mValueError\u001b[0m                                Traceback (most recent call last)",
      "Input \u001b[1;32mIn [73]\u001b[0m, in \u001b[0;36m<cell line: 8>\u001b[1;34m()\u001b[0m\n\u001b[0;32m      6\u001b[0m m\u001b[38;5;241m.\u001b[39mBc_c1 \u001b[38;5;241m=\u001b[39m pyo\u001b[38;5;241m.\u001b[39mConstraint(m\u001b[38;5;241m.\u001b[39mTime,rule \u001b[38;5;241m=\u001b[39m charge_constraint_1)\n\u001b[0;32m      7\u001b[0m m\u001b[38;5;241m.\u001b[39mBc_c2 \u001b[38;5;241m=\u001b[39m pyo\u001b[38;5;241m.\u001b[39mConstraint(m\u001b[38;5;241m.\u001b[39mTime,rule \u001b[38;5;241m=\u001b[39m charge_constraint_2)\n\u001b[1;32m----> 8\u001b[0m m\u001b[38;5;241m.\u001b[39mX_c \u001b[38;5;241m=\u001b[39m pyo\u001b[38;5;241m.\u001b[39mConstraint(m\u001b[38;5;241m.\u001b[39mTime,rule \u001b[38;5;241m=\u001b[39m panel_constraint)\n\u001b[0;32m      9\u001b[0m \u001b[38;5;66;03m#OBJECTIVE \u001b[39;00m\n\u001b[0;32m     10\u001b[0m \u001b[38;5;66;03m#m.objective = pyo.Objective(expr = sum(SOC[k].value for k in m.Time), sense = pyo.minimize)   \u001b[39;00m\n\u001b[0;32m     12\u001b[0m m\u001b[38;5;241m.\u001b[39mobjective \u001b[38;5;241m=\u001b[39m pyo\u001b[38;5;241m.\u001b[39mObjective(expr \u001b[38;5;241m=\u001b[39m \u001b[38;5;28msum\u001b[39m([(m\u001b[38;5;241m.\u001b[39mGi[k]\u001b[38;5;241m.\u001b[39mvalue\u001b[38;5;241m*\u001b[39mm\u001b[38;5;241m.\u001b[39mgrid_cost[k]) \u001b[38;5;28;01mfor\u001b[39;00m k \u001b[38;5;129;01min\u001b[39;00m m\u001b[38;5;241m.\u001b[39mTime]), sense \u001b[38;5;241m=\u001b[39m pyo\u001b[38;5;241m.\u001b[39mminimize)   \n",
      "File \u001b[1;32m~\\anaconda3\\envs\\microgrid\\lib\\site-packages\\pyomo\\core\\base\\block.py:572\u001b[0m, in \u001b[0;36m_BlockData.__setattr__\u001b[1;34m(self, name, val)\u001b[0m\n\u001b[0;32m    563\u001b[0m     logger\u001b[38;5;241m.\u001b[39mwarning(\n\u001b[0;32m    564\u001b[0m         \u001b[38;5;124m\"\u001b[39m\u001b[38;5;124mImplicitly replacing the Component attribute \u001b[39m\u001b[38;5;124m\"\u001b[39m\n\u001b[0;32m    565\u001b[0m         \u001b[38;5;124m\"\u001b[39m\u001b[38;5;132;01m%s\u001b[39;00m\u001b[38;5;124m (type=\u001b[39m\u001b[38;5;132;01m%s\u001b[39;00m\u001b[38;5;124m) on block \u001b[39m\u001b[38;5;132;01m%s\u001b[39;00m\u001b[38;5;124m with a new Component (type=\u001b[39m\u001b[38;5;132;01m%s\u001b[39;00m\u001b[38;5;124m).\u001b[39m\u001b[38;5;124m\"\u001b[39m\n\u001b[1;32m   (...)\u001b[0m\n\u001b[0;32m    569\u001b[0m         \u001b[38;5;241m%\u001b[39m (name, \u001b[38;5;28mtype\u001b[39m(\u001b[38;5;28mself\u001b[39m\u001b[38;5;241m.\u001b[39mcomponent(name)), \u001b[38;5;28mself\u001b[39m\u001b[38;5;241m.\u001b[39mname,\n\u001b[0;32m    570\u001b[0m            \u001b[38;5;28mtype\u001b[39m(val)))\n\u001b[0;32m    571\u001b[0m     \u001b[38;5;28mself\u001b[39m\u001b[38;5;241m.\u001b[39mdel_component(name)\n\u001b[1;32m--> 572\u001b[0m     \u001b[38;5;28;43mself\u001b[39;49m\u001b[38;5;241;43m.\u001b[39;49m\u001b[43madd_component\u001b[49m\u001b[43m(\u001b[49m\u001b[43mname\u001b[49m\u001b[43m,\u001b[49m\u001b[43m \u001b[49m\u001b[43mval\u001b[49m\u001b[43m)\u001b[49m\n\u001b[0;32m    573\u001b[0m \u001b[38;5;28;01melse\u001b[39;00m:\n\u001b[0;32m    574\u001b[0m     \u001b[38;5;66;03m#\u001b[39;00m\n\u001b[0;32m    575\u001b[0m     \u001b[38;5;66;03m# The incoming value is not a component, so we set the\u001b[39;00m\n\u001b[1;32m   (...)\u001b[0m\n\u001b[0;32m    582\u001b[0m     \u001b[38;5;66;03m# generated while setting the value.\u001b[39;00m\n\u001b[0;32m    583\u001b[0m     \u001b[38;5;66;03m#\u001b[39;00m\n\u001b[0;32m    584\u001b[0m     \u001b[38;5;28;01mtry\u001b[39;00m:\n",
      "File \u001b[1;32m~\\anaconda3\\envs\\microgrid\\lib\\site-packages\\pyomo\\core\\base\\block.py:1087\u001b[0m, in \u001b[0;36m_BlockData.add_component\u001b[1;34m(self, name, val)\u001b[0m\n\u001b[0;32m   1083\u001b[0m     logger\u001b[38;5;241m.\u001b[39mdebug(\u001b[38;5;124m\"\u001b[39m\u001b[38;5;124mConstructing \u001b[39m\u001b[38;5;132;01m%s\u001b[39;00m\u001b[38;5;124m \u001b[39m\u001b[38;5;124m'\u001b[39m\u001b[38;5;132;01m%s\u001b[39;00m\u001b[38;5;124m'\u001b[39m\u001b[38;5;124m on \u001b[39m\u001b[38;5;132;01m%s\u001b[39;00m\u001b[38;5;124m from data=\u001b[39m\u001b[38;5;132;01m%s\u001b[39;00m\u001b[38;5;124m\"\u001b[39m,\n\u001b[0;32m   1084\u001b[0m                  val\u001b[38;5;241m.\u001b[39m\u001b[38;5;18m__class__\u001b[39m\u001b[38;5;241m.\u001b[39m\u001b[38;5;18m__name__\u001b[39m, name,\n\u001b[0;32m   1085\u001b[0m                  _blockName, \u001b[38;5;28mstr\u001b[39m(data))\n\u001b[0;32m   1086\u001b[0m \u001b[38;5;28;01mtry\u001b[39;00m:\n\u001b[1;32m-> 1087\u001b[0m     \u001b[43mval\u001b[49m\u001b[38;5;241;43m.\u001b[39;49m\u001b[43mconstruct\u001b[49m\u001b[43m(\u001b[49m\u001b[43mdata\u001b[49m\u001b[43m)\u001b[49m\n\u001b[0;32m   1088\u001b[0m \u001b[38;5;28;01mexcept\u001b[39;00m:\n\u001b[0;32m   1089\u001b[0m     err \u001b[38;5;241m=\u001b[39m sys\u001b[38;5;241m.\u001b[39mexc_info()[\u001b[38;5;241m1\u001b[39m]\n",
      "File \u001b[1;32m~\\anaconda3\\envs\\microgrid\\lib\\site-packages\\pyomo\\core\\base\\constraint.py:748\u001b[0m, in \u001b[0;36mConstraint.construct\u001b[1;34m(self, data)\u001b[0m\n\u001b[0;32m    745\u001b[0m     \u001b[38;5;28;01melse\u001b[39;00m:\n\u001b[0;32m    746\u001b[0m         \u001b[38;5;66;03m# Bypass the index validation and create the member directly\u001b[39;00m\n\u001b[0;32m    747\u001b[0m         \u001b[38;5;28;01mfor\u001b[39;00m index \u001b[38;5;129;01min\u001b[39;00m \u001b[38;5;28mself\u001b[39m\u001b[38;5;241m.\u001b[39mindex_set():\n\u001b[1;32m--> 748\u001b[0m             \u001b[38;5;28;43mself\u001b[39;49m\u001b[38;5;241;43m.\u001b[39;49m\u001b[43m_setitem_when_not_present\u001b[49m\u001b[43m(\u001b[49m\u001b[43mindex\u001b[49m\u001b[43m,\u001b[49m\u001b[43m \u001b[49m\u001b[43mrule\u001b[49m\u001b[43m(\u001b[49m\u001b[43mblock\u001b[49m\u001b[43m,\u001b[49m\u001b[43m \u001b[49m\u001b[43mindex\u001b[49m\u001b[43m)\u001b[49m\u001b[43m)\u001b[49m\n\u001b[0;32m    749\u001b[0m \u001b[38;5;28;01mexcept\u001b[39;00m \u001b[38;5;167;01mException\u001b[39;00m:\n\u001b[0;32m    750\u001b[0m     err \u001b[38;5;241m=\u001b[39m sys\u001b[38;5;241m.\u001b[39mexc_info()[\u001b[38;5;241m1\u001b[39m]\n",
      "File \u001b[1;32m~\\anaconda3\\envs\\microgrid\\lib\\site-packages\\pyomo\\core\\base\\indexed_component.py:996\u001b[0m, in \u001b[0;36mIndexedComponent._setitem_when_not_present\u001b[1;34m(self, index, value)\u001b[0m\n\u001b[0;32m    994\u001b[0m \u001b[38;5;28;01mtry\u001b[39;00m:\n\u001b[0;32m    995\u001b[0m     \u001b[38;5;28;01mif\u001b[39;00m value \u001b[38;5;129;01mis\u001b[39;00m \u001b[38;5;129;01mnot\u001b[39;00m _NotSpecified:\n\u001b[1;32m--> 996\u001b[0m         \u001b[43mobj\u001b[49m\u001b[38;5;241;43m.\u001b[39;49m\u001b[43mset_value\u001b[49m\u001b[43m(\u001b[49m\u001b[43mvalue\u001b[49m\u001b[43m)\u001b[49m\n\u001b[0;32m    997\u001b[0m \u001b[38;5;28;01mexcept\u001b[39;00m:\n\u001b[0;32m    998\u001b[0m     \u001b[38;5;28mself\u001b[39m\u001b[38;5;241m.\u001b[39m_data\u001b[38;5;241m.\u001b[39mpop(index, \u001b[38;5;28;01mNone\u001b[39;00m)\n",
      "File \u001b[1;32m~\\anaconda3\\envs\\microgrid\\lib\\site-packages\\pyomo\\core\\base\\constraint.py:528\u001b[0m, in \u001b[0;36m_GeneralConstraintData.set_value\u001b[1;34m(self, expr)\u001b[0m\n\u001b[0;32m    525\u001b[0m     \u001b[38;5;28;01mraise\u001b[39;00m \u001b[38;5;167;01mValueError\u001b[39;00m(_rule_returned_none_error \u001b[38;5;241m%\u001b[39m (\u001b[38;5;28mself\u001b[39m\u001b[38;5;241m.\u001b[39mname,))\n\u001b[0;32m    527\u001b[0m \u001b[38;5;28;01melif\u001b[39;00m _expr_type \u001b[38;5;129;01mis\u001b[39;00m \u001b[38;5;28mbool\u001b[39m:\n\u001b[1;32m--> 528\u001b[0m     \u001b[38;5;28;01mraise\u001b[39;00m \u001b[38;5;167;01mValueError\u001b[39;00m(\n\u001b[0;32m    529\u001b[0m         \u001b[38;5;124m\"\u001b[39m\u001b[38;5;124mInvalid constraint expression. The constraint \u001b[39m\u001b[38;5;124m\"\u001b[39m\n\u001b[0;32m    530\u001b[0m         \u001b[38;5;124m\"\u001b[39m\u001b[38;5;124mexpression resolved to a trivial Boolean (\u001b[39m\u001b[38;5;132;01m%s\u001b[39;00m\u001b[38;5;124m) \u001b[39m\u001b[38;5;124m\"\u001b[39m\n\u001b[0;32m    531\u001b[0m         \u001b[38;5;124m\"\u001b[39m\u001b[38;5;124minstead of a Pyomo object. Please modify your \u001b[39m\u001b[38;5;124m\"\u001b[39m\n\u001b[0;32m    532\u001b[0m         \u001b[38;5;124m\"\u001b[39m\u001b[38;5;124mrule to return Constraint.\u001b[39m\u001b[38;5;132;01m%s\u001b[39;00m\u001b[38;5;124m instead of \u001b[39m\u001b[38;5;132;01m%s\u001b[39;00m\u001b[38;5;124m.\u001b[39m\u001b[38;5;124m\"\u001b[39m\n\u001b[0;32m    533\u001b[0m         \u001b[38;5;124m\"\u001b[39m\u001b[38;5;130;01m\\n\u001b[39;00m\u001b[38;5;130;01m\\n\u001b[39;00m\u001b[38;5;124mError thrown for Constraint \u001b[39m\u001b[38;5;124m'\u001b[39m\u001b[38;5;132;01m%s\u001b[39;00m\u001b[38;5;124m'\u001b[39m\u001b[38;5;124m\"\u001b[39m\n\u001b[0;32m    534\u001b[0m         \u001b[38;5;241m%\u001b[39m (expr, \u001b[38;5;124m\"\u001b[39m\u001b[38;5;124mFeasible\u001b[39m\u001b[38;5;124m\"\u001b[39m \u001b[38;5;28;01mif\u001b[39;00m expr \u001b[38;5;28;01melse\u001b[39;00m \u001b[38;5;124m\"\u001b[39m\u001b[38;5;124mInfeasible\u001b[39m\u001b[38;5;124m\"\u001b[39m,\n\u001b[0;32m    535\u001b[0m            expr, \u001b[38;5;28mself\u001b[39m\u001b[38;5;241m.\u001b[39mname))\n\u001b[0;32m    537\u001b[0m \u001b[38;5;28;01melse\u001b[39;00m:\n\u001b[0;32m    538\u001b[0m     msg \u001b[38;5;241m=\u001b[39m (\u001b[38;5;124m\"\u001b[39m\u001b[38;5;124mConstraint \u001b[39m\u001b[38;5;124m'\u001b[39m\u001b[38;5;132;01m%s\u001b[39;00m\u001b[38;5;124m'\u001b[39m\u001b[38;5;124m does not have a proper \u001b[39m\u001b[38;5;124m\"\u001b[39m\n\u001b[0;32m    539\u001b[0m            \u001b[38;5;124m\"\u001b[39m\u001b[38;5;124mvalue. Found \u001b[39m\u001b[38;5;124m'\u001b[39m\u001b[38;5;132;01m%s\u001b[39;00m\u001b[38;5;124m'\u001b[39m\u001b[38;5;130;01m\\n\u001b[39;00m\u001b[38;5;124mExpecting a tuple or \u001b[39m\u001b[38;5;124m\"\u001b[39m\n\u001b[0;32m    540\u001b[0m            \u001b[38;5;124m\"\u001b[39m\u001b[38;5;124mequation. Examples:\u001b[39m\u001b[38;5;124m\"\u001b[39m\n\u001b[0;32m    541\u001b[0m            \u001b[38;5;124m\"\u001b[39m\u001b[38;5;130;01m\\n\u001b[39;00m\u001b[38;5;124m   sum(model.costs) == model.income\u001b[39m\u001b[38;5;124m\"\u001b[39m\n\u001b[0;32m    542\u001b[0m            \u001b[38;5;124m\"\u001b[39m\u001b[38;5;130;01m\\n\u001b[39;00m\u001b[38;5;124m   (0, model.price[item], 50)\u001b[39m\u001b[38;5;124m\"\u001b[39m\n\u001b[0;32m    543\u001b[0m            \u001b[38;5;241m%\u001b[39m (\u001b[38;5;28mself\u001b[39m\u001b[38;5;241m.\u001b[39mname, \u001b[38;5;28mstr\u001b[39m(expr)))\n",
      "\u001b[1;31mValueError\u001b[0m: Invalid constraint expression. The constraint expression resolved to a trivial Boolean (False) instead of a Pyomo object. Please modify your rule to return Constraint.Infeasible instead of False.\n\nError thrown for Constraint 'X_c[1]'"
     ]
    }
   ],
   "source": [
    "#constraints\n",
    "m.Gi_c = pyo.Constraint(m.Time, rule = purchase_constraint)\n",
    "m.SOC_c = pyo.Constraint(m.Time, rule = soc_constraint)\n",
    "m.Bd_c1 = pyo.Constraint(m.Time, rule = discharge_constraint_1)\n",
    "m.Bd_c2 = pyo.Constraint(m.Time,rule = discharge_constraint_2)\n",
    "m.Bc_c1 = pyo.Constraint(m.Time,rule = charge_constraint_1)\n",
    "m.Bc_c2 = pyo.Constraint(m.Time,rule = charge_constraint_2)\n",
    "m.X_c = pyo.Constraint(m.Time,rule = panel_constraint)\n",
    "#OBJECTIVE \n",
    "#m.objective = pyo.Objective(expr = sum(SOC[k].value for k in m.Time), sense = pyo.minimize)   \n",
    "\n",
    "m.objective = pyo.Objective(expr = sum([(m.Gi[k].value*m.grid_cost[k]) for k in m.Time]), sense = pyo.minimize)   \n",
    " \n",
    "opt = pyo.SolverFactory('glpk')\n",
    "results = opt.solve(m)\n",
    "results.write()\n",
    " \n",
    "x=[pyo.value(m.X[1])]\n",
    "y=[pyo.value(m.Y[1])]\n",
    "\n",
    "for t in m.Time:\n",
    "    if t < N:\n",
    "        x.append(pyo.value(m.X[t+1]))\n",
    "        y.append(pyo.value(m.Y[t+1]))\n",
    "plt.plot(x)"
   ]
  }
 ],
 "metadata": {
  "colab": {
   "collapsed_sections": [],
   "name": "Component_Opt.ipynb",
   "provenance": []
  },
  "kernelspec": {
   "display_name": "Python 3 (ipykernel)",
   "language": "python",
   "name": "python3"
  },
  "language_info": {
   "codemirror_mode": {
    "name": "ipython",
    "version": 3
   },
   "file_extension": ".py",
   "mimetype": "text/x-python",
   "name": "python",
   "nbconvert_exporter": "python",
   "pygments_lexer": "ipython3",
   "version": "3.9.10"
  }
 },
 "nbformat": 4,
 "nbformat_minor": 1
}
