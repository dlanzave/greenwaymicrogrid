{
 "cells": [
  {
   "cell_type": "code",
   "execution_count": 1,
   "metadata": {
    "id": "pVV0Xd1NiYGA"
   },
   "outputs": [],
   "source": [
    "import numpy as np\n",
    "import csv\n",
    "import matplotlib.pyplot as plt\n",
    "import math\n",
    "import random\n",
    "import pandas as pd\n",
    "\n",
    "import seaborn as sns\n",
    "from __future__ import division\n",
    "import time\n",
    "from cvxpy import *\n",
    "\n",
    "from distutils.log import error\n",
    "import errno\n",
    "import numpy as np\n",
    "import pandas as pd\n",
    "import time\n",
    "from datetime import date\n",
    "import cvxpy as cp\n",
    "\n",
    "import parameters"
   ]
  },
  {
   "cell_type": "code",
   "execution_count": 2,
   "metadata": {
    "colab": {
     "base_uri": "https://localhost:8080/"
    },
    "id": "Kr-qa_dyHjDP",
    "outputId": "2dad16b9-cce3-4070-b71b-9a59e07c88ed"
   },
   "outputs": [
    {
     "name": "stdout",
     "output_type": "stream",
     "text": [
      "     Time  PV_Output  PV_Percentage  Demand_kW  Grid_Cost  Unnamed: 5  \\\n",
      "0    0:00        0.0            0.0       0.12       0.01         NaN   \n",
      "1    0:15        0.0            0.0       0.12       0.01         NaN   \n",
      "2    0:30        0.0            0.0       0.12       0.01         NaN   \n",
      "3    0:45        0.0            0.0       0.12       0.01         NaN   \n",
      "4    1:00        0.0            0.0       0.16       0.01         NaN   \n",
      "..    ...        ...            ...        ...        ...         ...   \n",
      "91  22:45        0.0            0.0       0.20       0.01         NaN   \n",
      "92  23:00        0.0            0.0       0.16       0.01         NaN   \n",
      "93  23:15        0.0            0.0       0.16       0.01         NaN   \n",
      "94  23:30        0.0            0.0       0.16       0.01         NaN   \n",
      "95  23:45        0.0            0.0       0.16       0.01         NaN   \n",
      "\n",
      "    Unnamed: 6  \n",
      "0          NaN  \n",
      "1          NaN  \n",
      "2          NaN  \n",
      "3          NaN  \n",
      "4          NaN  \n",
      "..         ...  \n",
      "91         NaN  \n",
      "92         NaN  \n",
      "93         NaN  \n",
      "94         NaN  \n",
      "95         NaN  \n",
      "\n",
      "[96 rows x 7 columns]\n"
     ]
    }
   ],
   "source": [
    "User_PV_Data = pd.read_csv('./Solar_Demand.csv')\n",
    "\n",
    "# get_all_values gives a list of rows.\n",
    "\n",
    "\n",
    "userdata = np.array(User_PV_Data.values)\n",
    "\n",
    "\n",
    "print(User_PV_Data)"
   ]
  },
  {
   "cell_type": "code",
   "execution_count": 3,
   "metadata": {
    "scrolled": true
   },
   "outputs": [],
   "source": [
    "prof=pd.Series(dtype='object')\n",
    "\n",
    "prof.loc['Solar']=User_PV_Data.iloc[:, 2]\n",
    "prof.loc['Load']=User_PV_Data.iloc[:, 3]\n",
    "prof.loc['Price']=User_PV_Data.iloc[:, 4]*100\n",
    "\n",
    "k=prof.Load.shape[0]"
   ]
  },
  {
   "cell_type": "code",
   "execution_count": 5,
   "metadata": {},
   "outputs": [
    {
     "data": {
      "text/plain": [
       "0     0.12\n",
       "1     0.12\n",
       "2     0.12\n",
       "3     0.12\n",
       "4     0.16\n",
       "      ... \n",
       "91    0.20\n",
       "92    0.16\n",
       "93    0.16\n",
       "94    0.16\n",
       "95    0.16\n",
       "Name: Demand_kW, Length: 96, dtype: float64"
      ]
     },
     "execution_count": 5,
     "metadata": {},
     "output_type": "execute_result"
    }
   ],
   "source": [
    "prof.Load"
   ]
  },
  {
   "cell_type": "code",
   "execution_count": 6,
   "metadata": {},
   "outputs": [],
   "source": [
    "import pyomo.environ as pyo"
   ]
  },
  {
   "cell_type": "code",
   "execution_count": 7,
   "metadata": {},
   "outputs": [],
   "source": [
    "m = pyo.ConcreteModel()\n",
    "\n",
    "m.Time = pyo.Set(initialize=pyo.RangeSet(k),ordered=True)\n",
    "\n",
    "#scalar parameters\n",
    "m.Kpv = pyo.Param(initialize=300) # Solar capacity cost ($/kW)\n",
    "m.Kb = pyo.Param(initialize= 150) # Battery capacity cost ($/kWh)\n",
    "m.VCC = pyo.Param(initialize= 75) # Battery discharge cost ($/MWh)\n",
    "m.nu =pyo.Param(initialize= 0.85) # Battery efficiency\n",
    "m.r = pyo.Param(initialize= 0.004) # Real interest rate\n",
    "m.b_min_cap = pyo.Param(initialize= 0) # min battery cap\n",
    "\n",
    "#time indexed parameters\n",
    "m.grid_cost = pyo.Param(m.Time,initialize=dict(enumerate(prof.Price,1)),within=pyo.Any)\n",
    "m.demand = pyo.Param(m.Time,initialize=dict(enumerate(prof.Load,1)),within=pyo.Any)\n",
    "m.solar = pyo.Param(m.Time,initialize=dict(enumerate(prof.Solar,1)),within=pyo.Any)"
   ]
  },
  {
   "cell_type": "code",
   "execution_count": 8,
   "metadata": {},
   "outputs": [],
   "source": [
    "#time indexed Variables\n",
    "m.SOC= pyo.Var(m.Time, domain=pyo.NonNegativeReals) # Battery state of charge at step k (MWh)\n",
    "m.Bc = pyo.Var(m.Time, domain=pyo.NonNegativeReals) # Battery charge at step k (MWh)\n",
    "m.Bd = pyo.Var(m.Time, domain=pyo.NonNegativeReals) # Battery dischcharge at step k (MWh)\n",
    "m.Ge = pyo.Var(m.Time, domain=pyo.NonNegativeReals) # Grid energy export at step k (MWh)\n",
    "m.Gi = pyo.Var(m.Time, domain=pyo.NonNegativeReals) # Grid energy import at step k (MWh)\n",
    "m.Dpv = pyo.Var(m.Time, domain=pyo.NonNegativeReals) # Curtailed PV production at step k (MWh)\n",
    "m.Dl =pyo.Var(m.Time, domain=pyo.NonNegativeReals) # Cutailed load at step k (MWh)\n",
    "m.X =pyo.Var(m.Time, domain=pyo.NonNegativeReals) # Solar capacity MW\n",
    "m.Y = pyo.Var(m.Time, domain=pyo.NonNegativeReals) # Battery capacity MWh"
   ]
  },
  {
   "cell_type": "code",
   "execution_count": 9,
   "metadata": {},
   "outputs": [],
   "source": [
    "#CONSTRAINTS\n",
    "#Purchase constraint\n",
    "def purchase_constraint(m,k):\n",
    "    return m.Gi[k] >= m.demand[k] - m.Bd[k] + m.Bc[k] - X[k]*m.solar[k]\n",
    "\n",
    "#State of charge constraint\n",
    "def soc_constraint(m,k):\n",
    "        return m.SOC[k+1] == m.SOC[k] + m.Bc[k]*m.nu - m.Bd[k]*m.nu\n",
    "    \n",
    "#Discharge and charge constraints\n",
    "def discharge_constraint_1(m,k):\n",
    "    \"\"\" Maximum discharge rate within time set k\"\"\"\n",
    "    return model.Bd[k] <= m.Y[k]/4\n",
    "\n",
    "def discharge_constraint_2(m,k):\n",
    "    \"\"\" Sets the maximum energy available to be discharged as the SOC - minimum SOC \"\"\"\n",
    "    return m.Bd[k] <= m.SOC[k] - m.b_min_cap\n",
    "\n",
    "def charge_constraint_1(m,k):\n",
    "    \"\"\" Maximum charge rate within a single hour \"\"\"\n",
    "    return model.Bc[k] <= m.Y[k]/4 \n",
    "\n",
    "def charge_constraint_2(m,k):\n",
    "    \"\"\" Sets the maximum energy available to be cahrge as the SOC max \"\"\"\n",
    "    return model.bc[t]  <= m.Y[k] - m.SOC[k]\n",
    "\n"
   ]
  },
  {
   "cell_type": "code",
   "execution_count": 10,
   "metadata": {},
   "outputs": [
    {
     "name": "stdout",
     "output_type": "stream",
     "text": [
      "ERROR: Rule failed when generating expression for Constraint Gi_c with index\n",
      "    1: NameError: name 'X' is not defined\n",
      "ERROR: Constructing component 'Gi_c' from data=None failed: NameError: name\n",
      "    'X' is not defined\n"
     ]
    },
    {
     "ename": "NameError",
     "evalue": "name 'X' is not defined",
     "output_type": "error",
     "traceback": [
      "\u001b[1;31m---------------------------------------------------------------------------\u001b[0m",
      "\u001b[1;31mNameError\u001b[0m                                 Traceback (most recent call last)",
      "Input \u001b[1;32mIn [10]\u001b[0m, in \u001b[0;36m<cell line: 2>\u001b[1;34m()\u001b[0m\n\u001b[0;32m      1\u001b[0m \u001b[38;5;66;03m#constraints\u001b[39;00m\n\u001b[1;32m----> 2\u001b[0m m\u001b[38;5;241m.\u001b[39mGi_c \u001b[38;5;241m=\u001b[39m pyo\u001b[38;5;241m.\u001b[39mConstraint(m\u001b[38;5;241m.\u001b[39mTime, rule \u001b[38;5;241m=\u001b[39m purchase_constraint)\n\u001b[0;32m      3\u001b[0m m\u001b[38;5;241m.\u001b[39mSOC_c \u001b[38;5;241m=\u001b[39m pyo\u001b[38;5;241m.\u001b[39mConstraint(m\u001b[38;5;241m.\u001b[39mTime, rule \u001b[38;5;241m=\u001b[39m soc_constraint)\n\u001b[0;32m      4\u001b[0m m\u001b[38;5;241m.\u001b[39mBd_c1 \u001b[38;5;241m=\u001b[39m pyo\u001b[38;5;241m.\u001b[39mConstraint(m\u001b[38;5;241m.\u001b[39mTime, rule \u001b[38;5;241m=\u001b[39m discharge_constraint_1)\n",
      "File \u001b[1;32m~\\anaconda3\\envs\\microgrid\\lib\\site-packages\\pyomo\\core\\base\\block.py:542\u001b[0m, in \u001b[0;36m_BlockData.__setattr__\u001b[1;34m(self, name, val)\u001b[0m\n\u001b[0;32m    537\u001b[0m \u001b[38;5;28;01mif\u001b[39;00m name \u001b[38;5;129;01mnot\u001b[39;00m \u001b[38;5;129;01min\u001b[39;00m \u001b[38;5;28mself\u001b[39m\u001b[38;5;241m.\u001b[39m\u001b[38;5;18m__dict__\u001b[39m:\n\u001b[0;32m    538\u001b[0m     \u001b[38;5;28;01mif\u001b[39;00m \u001b[38;5;28misinstance\u001b[39m(val, Component):\n\u001b[0;32m    539\u001b[0m         \u001b[38;5;66;03m#\u001b[39;00m\n\u001b[0;32m    540\u001b[0m         \u001b[38;5;66;03m# Pyomo components are added with the add_component method.\u001b[39;00m\n\u001b[0;32m    541\u001b[0m         \u001b[38;5;66;03m#\u001b[39;00m\n\u001b[1;32m--> 542\u001b[0m         \u001b[38;5;28;43mself\u001b[39;49m\u001b[38;5;241;43m.\u001b[39;49m\u001b[43madd_component\u001b[49m\u001b[43m(\u001b[49m\u001b[43mname\u001b[49m\u001b[43m,\u001b[49m\u001b[43m \u001b[49m\u001b[43mval\u001b[49m\u001b[43m)\u001b[49m\n\u001b[0;32m    543\u001b[0m     \u001b[38;5;28;01melse\u001b[39;00m:\n\u001b[0;32m    544\u001b[0m         \u001b[38;5;66;03m#\u001b[39;00m\n\u001b[0;32m    545\u001b[0m         \u001b[38;5;66;03m# Other Python objects are added with the standard __setattr__\u001b[39;00m\n\u001b[0;32m    546\u001b[0m         \u001b[38;5;66;03m# method.\u001b[39;00m\n\u001b[0;32m    547\u001b[0m         \u001b[38;5;66;03m#\u001b[39;00m\n\u001b[0;32m    548\u001b[0m         \u001b[38;5;28msuper\u001b[39m(_BlockData, \u001b[38;5;28mself\u001b[39m)\u001b[38;5;241m.\u001b[39m\u001b[38;5;21m__setattr__\u001b[39m(name, val)\n",
      "File \u001b[1;32m~\\anaconda3\\envs\\microgrid\\lib\\site-packages\\pyomo\\core\\base\\block.py:1087\u001b[0m, in \u001b[0;36m_BlockData.add_component\u001b[1;34m(self, name, val)\u001b[0m\n\u001b[0;32m   1083\u001b[0m     logger\u001b[38;5;241m.\u001b[39mdebug(\u001b[38;5;124m\"\u001b[39m\u001b[38;5;124mConstructing \u001b[39m\u001b[38;5;132;01m%s\u001b[39;00m\u001b[38;5;124m \u001b[39m\u001b[38;5;124m'\u001b[39m\u001b[38;5;132;01m%s\u001b[39;00m\u001b[38;5;124m'\u001b[39m\u001b[38;5;124m on \u001b[39m\u001b[38;5;132;01m%s\u001b[39;00m\u001b[38;5;124m from data=\u001b[39m\u001b[38;5;132;01m%s\u001b[39;00m\u001b[38;5;124m\"\u001b[39m,\n\u001b[0;32m   1084\u001b[0m                  val\u001b[38;5;241m.\u001b[39m\u001b[38;5;18m__class__\u001b[39m\u001b[38;5;241m.\u001b[39m\u001b[38;5;18m__name__\u001b[39m, name,\n\u001b[0;32m   1085\u001b[0m                  _blockName, \u001b[38;5;28mstr\u001b[39m(data))\n\u001b[0;32m   1086\u001b[0m \u001b[38;5;28;01mtry\u001b[39;00m:\n\u001b[1;32m-> 1087\u001b[0m     \u001b[43mval\u001b[49m\u001b[38;5;241;43m.\u001b[39;49m\u001b[43mconstruct\u001b[49m\u001b[43m(\u001b[49m\u001b[43mdata\u001b[49m\u001b[43m)\u001b[49m\n\u001b[0;32m   1088\u001b[0m \u001b[38;5;28;01mexcept\u001b[39;00m:\n\u001b[0;32m   1089\u001b[0m     err \u001b[38;5;241m=\u001b[39m sys\u001b[38;5;241m.\u001b[39mexc_info()[\u001b[38;5;241m1\u001b[39m]\n",
      "File \u001b[1;32m~\\anaconda3\\envs\\microgrid\\lib\\site-packages\\pyomo\\core\\base\\constraint.py:748\u001b[0m, in \u001b[0;36mConstraint.construct\u001b[1;34m(self, data)\u001b[0m\n\u001b[0;32m    745\u001b[0m     \u001b[38;5;28;01melse\u001b[39;00m:\n\u001b[0;32m    746\u001b[0m         \u001b[38;5;66;03m# Bypass the index validation and create the member directly\u001b[39;00m\n\u001b[0;32m    747\u001b[0m         \u001b[38;5;28;01mfor\u001b[39;00m index \u001b[38;5;129;01min\u001b[39;00m \u001b[38;5;28mself\u001b[39m\u001b[38;5;241m.\u001b[39mindex_set():\n\u001b[1;32m--> 748\u001b[0m             \u001b[38;5;28mself\u001b[39m\u001b[38;5;241m.\u001b[39m_setitem_when_not_present(index, \u001b[43mrule\u001b[49m\u001b[43m(\u001b[49m\u001b[43mblock\u001b[49m\u001b[43m,\u001b[49m\u001b[43m \u001b[49m\u001b[43mindex\u001b[49m\u001b[43m)\u001b[49m)\n\u001b[0;32m    749\u001b[0m \u001b[38;5;28;01mexcept\u001b[39;00m \u001b[38;5;167;01mException\u001b[39;00m:\n\u001b[0;32m    750\u001b[0m     err \u001b[38;5;241m=\u001b[39m sys\u001b[38;5;241m.\u001b[39mexc_info()[\u001b[38;5;241m1\u001b[39m]\n",
      "File \u001b[1;32m~\\anaconda3\\envs\\microgrid\\lib\\site-packages\\pyomo\\core\\base\\initializer.py:252\u001b[0m, in \u001b[0;36mIndexedCallInitializer.__call__\u001b[1;34m(self, parent, idx)\u001b[0m\n\u001b[0;32m    250\u001b[0m     \u001b[38;5;28;01mreturn\u001b[39;00m \u001b[38;5;28mself\u001b[39m\u001b[38;5;241m.\u001b[39m_fcn(parent, \u001b[38;5;241m*\u001b[39midx)\n\u001b[0;32m    251\u001b[0m \u001b[38;5;28;01melse\u001b[39;00m:\n\u001b[1;32m--> 252\u001b[0m     \u001b[38;5;28;01mreturn\u001b[39;00m \u001b[38;5;28;43mself\u001b[39;49m\u001b[38;5;241;43m.\u001b[39;49m\u001b[43m_fcn\u001b[49m\u001b[43m(\u001b[49m\u001b[43mparent\u001b[49m\u001b[43m,\u001b[49m\u001b[43m \u001b[49m\u001b[43midx\u001b[49m\u001b[43m)\u001b[49m\n",
      "Input \u001b[1;32mIn [9]\u001b[0m, in \u001b[0;36mpurchase_constraint\u001b[1;34m(m, k)\u001b[0m\n\u001b[0;32m      3\u001b[0m \u001b[38;5;28;01mdef\u001b[39;00m \u001b[38;5;21mpurchase_constraint\u001b[39m(m,k):\n\u001b[1;32m----> 4\u001b[0m     \u001b[38;5;28;01mreturn\u001b[39;00m m\u001b[38;5;241m.\u001b[39mGi[k] \u001b[38;5;241m>\u001b[39m\u001b[38;5;241m=\u001b[39m m\u001b[38;5;241m.\u001b[39mdemand[k] \u001b[38;5;241m-\u001b[39m m\u001b[38;5;241m.\u001b[39mBd[k] \u001b[38;5;241m+\u001b[39m m\u001b[38;5;241m.\u001b[39mBc[k] \u001b[38;5;241m-\u001b[39m \u001b[43mX\u001b[49m[k]\u001b[38;5;241m*\u001b[39mm\u001b[38;5;241m.\u001b[39msolar[k]\n",
      "\u001b[1;31mNameError\u001b[0m: name 'X' is not defined"
     ]
    }
   ],
   "source": [
    "#constraints\n",
    "m.Gi_c = pyo.Constraint(m.Time, rule = purchase_constraint)\n",
    "m.SOC_c = pyo.Constraint(m.Time, rule = soc_constraint)\n",
    "m.Bd_c1 = pyo.Constraint(m.Time, rule = discharge_constraint_1)\n",
    "m.Bd_c2 = pyo.Constraint(m.Time,rule = discharge_constraint_2)\n",
    "m.Bc_c1 = pyo.Constraint(m.Time,rule = charge_constraint_1)\n",
    "m.Bc_c2 = pyo.Constraint(m.Time,rule = charge_constraint_2)\n",
    "\n",
    "#OBJECTIVE \n",
    "expr = sum(m.Gi[k] * m.grid_cost[k]  for k in m.Time)\n",
    "model.objective = pyo.Objective(rule = expr, sense = pyo.minimize)    \n",
    "opt = pyo.SolverFactory('cbc',executable='/usr/bin/cbc')\n",
    "results = opt.solve(model)\n",
    "results.write()\n",
    "\n"
   ]
  }
 ],
 "metadata": {
  "colab": {
   "collapsed_sections": [],
   "name": "Component_Opt.ipynb",
   "provenance": []
  },
  "kernelspec": {
   "display_name": "Python 3 (ipykernel)",
   "language": "python",
   "name": "python3"
  },
  "language_info": {
   "codemirror_mode": {
    "name": "ipython",
    "version": 3
   },
   "file_extension": ".py",
   "mimetype": "text/x-python",
   "name": "python",
   "nbconvert_exporter": "python",
   "pygments_lexer": "ipython3",
   "version": "3.9.10"
  }
 },
 "nbformat": 4,
 "nbformat_minor": 1
}
