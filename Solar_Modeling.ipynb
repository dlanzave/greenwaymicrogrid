{
 "cells": [
  {
   "cell_type": "code",
   "execution_count": 151,
   "id": "ab42c003",
   "metadata": {},
   "outputs": [
    {
     "name": "stdout",
     "output_type": "stream",
     "text": [
      "Collecting NREL-PySAM\n",
      "  Downloading NREL_PySAM-3.0.1-cp39-cp39-win_amd64.whl (30.5 MB)\n",
      "     --------------------------------------- 30.5/30.5 MB 16.0 MB/s eta 0:00:00\n",
      "Installing collected packages: NREL-PySAM\n",
      "Successfully installed NREL-PySAM-3.0.1\n"
     ]
    }
   ],
   "source": [
    "!pip install NREL-PySAM\n",
    "!pip install pvlib"
   ]
  },
  {
   "cell_type": "code",
   "execution_count": 130,
   "id": "89b110f9",
   "metadata": {},
   "outputs": [],
   "source": [
    "import numpy as np\n",
    "import csv\n",
    "import matplotlib.pyplot as plt\n",
    "import math\n",
    "import random\n",
    "import pandas as pd\n",
    "import parameters\n",
    "import pvlib\n",
    "from pvlib import pvsystem"
   ]
  },
  {
   "cell_type": "code",
   "execution_count": 125,
   "id": "6dfba64a",
   "metadata": {},
   "outputs": [
    {
     "name": "stdout",
     "output_type": "stream",
     "text": [
      "(25, 21535)\n",
      "(16, 3264)\n"
     ]
    }
   ],
   "source": [
    "# Import the particular module of the pvlib library\n",
    "from pvlib import pvsystem\n",
    "\n",
    "# CEC PV Module Database\n",
    "cec_mod_db = pvsystem.retrieve_sam('CECmod')\n",
    "\n",
    "# Size of the database\n",
    "print(cec_mod_db.shape)\n",
    "\n",
    "#inverter Database\n",
    "invdb = pvsystem.retrieve_sam('CECInverter')\n",
    "print(invdb.shape)"
   ]
  },
  {
   "cell_type": "code",
   "execution_count": 148,
   "id": "3a0549fc",
   "metadata": {
    "scrolled": false
   },
   "outputs": [
    {
     "name": "stdout",
     "output_type": "stream",
     "text": [
      "Technology            Mono-c-Si\n",
      "Bifacial                      0\n",
      "STC                    184.7016\n",
      "PTC                       160.2\n",
      "A_c                         1.3\n",
      "Length                    1.576\n",
      "Width                     0.825\n",
      "N_s                          72\n",
      "I_sc_ref                   5.43\n",
      "V_oc_ref                  44.14\n",
      "I_mp_ref                   5.03\n",
      "V_mp_ref                  36.72\n",
      "alpha_sc               0.002253\n",
      "beta_oc                -0.15961\n",
      "T_NOCT                     49.9\n",
      "a_ref                  1.984817\n",
      "I_L_ref                5.435676\n",
      "I_o_ref                     0.0\n",
      "R_s                    0.311962\n",
      "R_sh_ref             298.424438\n",
      "Adjust                15.688233\n",
      "gamma_r                 -0.5072\n",
      "BIPV                          N\n",
      "Version       SAM 2018.11.11 r2\n",
      "Date                   1/3/2019\n",
      "Name: Ablytek_5MN6C185_A0, dtype: object\n"
     ]
    }
   ],
   "source": [
    "# Accessing the characteristics of one of the modules randomly\n",
    "print(cec_mod_db.iloc[:, np.random.randint(0, high=len(cec_mod_db))])"
   ]
  },
  {
   "cell_type": "code",
   "execution_count": 149,
   "id": "da9b6108",
   "metadata": {},
   "outputs": [],
   "source": [
    "# PV module data from a typical datasheet (e.g. Kyocera Solar KD225GX LPB)\n",
    "module_data = {'celltype': 'multiSi', # technology\n",
    "               'STC': 224.99, # STC power\n",
    "               'PTC': 203.3, # PTC power\n",
    "               'v_mp': 29.8, # Maximum power voltage\n",
    "               'i_mp': 7.55, # Maximum power current\n",
    "               'v_oc': 36.9, # Open-circuit voltage\n",
    "               'i_sc': 8.18, # Short-circuit current\n",
    "               'alpha_sc': 0.001636, # Temperature Coeff. Short Circuit Current [A/C]\n",
    "               'beta_voc': -0.12177, # Temperature Coeff. Open Circuit Voltage [V/C]\n",
    "               'gamma_pmp': -0.43, # Temperature coefficient of power at maximum point [%/C]\n",
    "               'cells_in_series': 60, # Number of cells in series\n",
    "               'temp_ref': 25}  # Reference temperature conditions"
   ]
  },
  {
   "cell_type": "code",
   "execution_count": 146,
   "id": "d7f7b7b1",
   "metadata": {},
   "outputs": [
    {
     "name": "stdout",
     "output_type": "stream",
     "text": [
      "Vac                          277\n",
      "Pso                    22.045107\n",
      "Paco                      3000.0\n",
      "Pdco                 3106.850098\n",
      "Vdco                       390.0\n",
      "C0                     -0.000005\n",
      "C1                     -0.000033\n",
      "C2                     -0.000032\n",
      "C3                      -0.00118\n",
      "Pnt                          0.2\n",
      "Vdcmax                     480.0\n",
      "Idcmax                  7.966282\n",
      "Mppt_low                   100.0\n",
      "Mppt_high                  480.0\n",
      "CEC_Date                     NaN\n",
      "CEC_Type     Utility Interactive\n",
      "Name: ABB__PVI_3_0_OUTD_S_US__277V_, dtype: object\n"
     ]
    }
   ],
   "source": [
    "# Accessing the characteristics of one of the Inverters randomly\n",
    "inverter_data = invdb.iloc[:, np.random.randint(0, high=len(invdb))]\n",
    "\n",
    "print(inverter_data)"
   ]
  },
  {
   "cell_type": "code",
   "execution_count": 154,
   "id": "c1b426fe",
   "metadata": {},
   "outputs": [
    {
     "name": "stdout",
     "output_type": "stream",
     "text": [
      "odict_keys(['i_sc', 'v_oc', 'i_mp', 'v_mp', 'p_mp', 'i_x', 'i_xx', 'v', 'i'])\n"
     ]
    }
   ],
   "source": [
    "#IV Characteristic Curve\n",
    "\n",
    "# 1st step: Estimating the parameters for the CEC single diode model\n",
    "\"\"\" WARNING - This function relies on NREL's SAM tool. So PySAM, its Python API, needs to be installed \n",
    "in the same computer. Otherwise, you can expect the following error: 'ImportError if NREL-PySAM is not installed.'\n",
    "\"\"\"\n",
    "cec_fit_params = pvlib.ivtools.sdm.fit_cec_sam(module_data['celltype'], module_data['v_mp'], module_data['i_mp'],\n",
    "                                  module_data['v_oc'], module_data['i_sc'], module_data['alpha_sc'],\n",
    "                                  module_data['beta_voc'], module_data['gamma_pmp'], \n",
    "                                  module_data['cells_in_series'], module_data['temp_ref'])\n",
    "\n",
    "# Effective irradiance values (W/m2)\n",
    "irrad = np.array([200,400,600,800,1000])\n",
    "# Average cell temperature (degrees Celsius)\n",
    "temp_cell = np.array([40, 40, 40, 40, 40])\n",
    "\n",
    "# 2nd step: Apply model to estimate the 5 parameters of the single diode equation using the CEC model\n",
    "diode_params = pvlib.pvsystem.calcparams_cec(irrad, temp_cell, module_data['alpha_sc'], cec_fit_params[4], \n",
    "                                            cec_fit_params[0], cec_fit_params[1], cec_fit_params[3], \n",
    "                                            cec_fit_params[2], cec_fit_params[5])\n",
    "\n",
    "# The result of the function returns a Tuple of 5 parameters to be used in the single diode equation\n",
    "\n",
    "# Estimate I-V characteristic using the Single Diode Equation\n",
    "iv_values1 = pvlib.pvsystem.singlediode(diode_params[0], \n",
    "                                        diode_params[1], \n",
    "                                        diode_params[2], \n",
    "                                        diode_params[3], \n",
    "                                        diode_params[4], \n",
    "                                        ivcurve_pnts=25,   # Number of points of the I-V curve (equally distributed)\n",
    "                                        method='lambertw') # I-V using the Lambert W. function\n",
    "\n",
    "# The result is a large ordered dictionary with the IV-curve characteristics of our example.\n",
    "print(iv_values1.keys())\n"
   ]
  },
  {
   "cell_type": "code",
   "execution_count": 155,
   "id": "e9b19b5a",
   "metadata": {},
   "outputs": [
    {
     "data": {
      "text/plain": [
       "<matplotlib.legend.Legend at 0x2a461c200a0>"
      ]
     },
     "execution_count": 155,
     "metadata": {},
     "output_type": "execute_result"
    },
    {
     "data": {
      "image/png": "[encoded data removed]",
      "text/plain": [
       "<Figure size 432x288 with 1 Axes>"
      ]
     },
     "metadata": {
      "needs_background": "light"
     },
     "output_type": "display_data"
    }
   ],
   "source": [
    "# We iterate over voltage\n",
    "for i in range(len(irrad)):\n",
    "    plt.plot(iv_values1['v'][i], iv_values1['i'][i], label=str(irrad[i])+' W/m$^2$')\n",
    "    plt.scatter(iv_values1['v_mp'][i], iv_values1['i_mp'][i])\n",
    "# Add the title, axis labels and legend: \n",
    "plt.title('I-V characteristic curve with maximum power at 40$^\\circ$C')\n",
    "plt.xlabel('Voltage [V]')\n",
    "plt.ylabel('Current [A]')\n",
    "plt.ylim(0, 10)\n",
    "plt.legend(bbox_to_anchor=(1.05, 1), ncol=1)"
   ]
  },
  {
   "cell_type": "code",
   "execution_count": 156,
   "id": "55921eec",
   "metadata": {},
   "outputs": [
    {
     "data": {
      "text/plain": [
       "<matplotlib.legend.Legend at 0x2a4621490d0>"
      ]
     },
     "execution_count": 156,
     "metadata": {},
     "output_type": "execute_result"
    },
    {
     "data": {
      "image/png": "[encoded data removed]",
      "text/plain": [
       "<Figure size 432x288 with 1 Axes>"
      ]
     },
     "metadata": {
      "needs_background": "light"
     },
     "output_type": "display_data"
    }
   ],
   "source": [
    "# Effective irradiance values (W/m2)\n",
    "irrad = np.array([800, 800, 800, 800, 800, 800])\n",
    "# Average cell temperature (degrees Celsius)\n",
    "temp_cell = np.array([10, 20, 30, 40, 50, 60])\n",
    "\n",
    "# Repeating the process from before:\n",
    "# Estimate the 5 parameters of the single diode equation using the CEC model\n",
    "diode_params = pvlib.pvsystem.calcparams_cec(irrad, temp_cell, module_data['alpha_sc'], cec_fit_params[4], \n",
    "                                            cec_fit_params[0], cec_fit_params[1], cec_fit_params[3], \n",
    "                                            cec_fit_params[2], cec_fit_params[5])\n",
    "\n",
    "# Estimate I-V characteristic using the Single Diode Equation\n",
    "iv_values2 = pvlib.pvsystem.singlediode(diode_params[0], \n",
    "                                        diode_params[1], \n",
    "                                        diode_params[2], \n",
    "                                        diode_params[3], \n",
    "                                        diode_params[4], \n",
    "                                        ivcurve_pnts=25,   # Number of points of the I-V curve (equally distributed)\n",
    "                                        method='lambertw') # I-V using the Lambert W. function\n",
    "\n",
    "# Plotting the results\n",
    "for i in range(len(irrad)):\n",
    "    plt.plot(iv_values2['v'][i], iv_values2['i'][i], label=str(temp_cell[i])+'$^\\circ$C')\n",
    "    plt.scatter(iv_values2['v_mp'][i], iv_values2['i_mp'][i])\n",
    "# Add the title, axis labels and legend: \n",
    "plt.title('Effect of module temperature in the I-V curve (800 W/m$^2$)')\n",
    "plt.xlabel('Voltage [V]')\n",
    "plt.ylabel('Current [A]')\n",
    "plt.ylim(0, 7)\n",
    "plt.legend(ncol=1)"
   ]
  },
  {
   "cell_type": "code",
   "execution_count": 157,
   "id": "4d634489",
   "metadata": {},
   "outputs": [
    {
     "data": {
      "image/png": "[encoded data removed]",
      "text/plain": [
       "<Figure size 432x288 with 2 Axes>"
      ]
     },
     "metadata": {
      "needs_background": "light"
     },
     "output_type": "display_data"
    }
   ],
   "source": [
    "#3 Irradiance to DC power conversion ¶\n",
    "# Randomly define a set of Effective Irradiance and cell temperature values:\n",
    "\n",
    "# Global plane-of-array effective irradiance between 200 and 1000 W/m2\n",
    "g_poa_effective = np.random.uniform(low=200, high=1000, size=(80,))\n",
    "# Mean cell temperature values between 10 and 50 degrees Celsius\n",
    "temp_cell = np.random.uniform(low=10, high=50, size=(80,)) \n",
    "\n",
    "# Definition of PV module characteristics:\n",
    "pdc0 = 250 # STC power\n",
    "gamma_pdc = -0.0045 # The temperature coefficient in units of 1/C\n",
    "\n",
    "# Estimate DC power with PVWatts model\n",
    "dc_power = pvlib.pvsystem.pvwatts_dc(g_poa_effective, temp_cell, pdc0, gamma_pdc, temp_ref=25.0)\n",
    "\n",
    "# Let's visualize the DC power output as function of the effective irradiance\n",
    "plt.scatter(g_poa_effective, dc_power, c=temp_cell, vmin=10, vmax=50, cmap='Reds')\n",
    "cbar = plt.colorbar()\n",
    "cbar.set_label('Cell Temperature [$^\\circ$C]')\n",
    "plt.title('PV Module DC Output vs. Plane-of-Array Irradiance')\n",
    "plt.xlabel('Effective Global Plane-of-Array Irradiance ($G_{POA}$) [W/m$^2$]')\n",
    "plt.ylabel('DC Power Output [W]')\n",
    "plt.show()"
   ]
  },
  {
   "cell_type": "code",
   "execution_count": 158,
   "id": "c4239f3f",
   "metadata": {},
   "outputs": [
    {
     "data": {
      "text/plain": [
       "odict_keys(['i_sc', 'v_oc', 'i_mp', 'v_mp', 'p_mp', 'i_x', 'i_xx', 'v', 'i'])"
      ]
     },
     "execution_count": 158,
     "metadata": {},
     "output_type": "execute_result"
    }
   ],
   "source": [
    "#DC to AC Power Conversion\n",
    "\n",
    "# The DataFrame with the technical characteristics of the PV inverter\n",
    "inverter_data.keys()\n",
    "\n",
    "# The dictionary with the current and voltage values\n",
    "iv_values1.keys()"
   ]
  },
  {
   "cell_type": "code",
   "execution_count": 159,
   "id": "dc8759eb",
   "metadata": {},
   "outputs": [
    {
     "data": {
      "text/plain": [
       "array([ 19.10749337,  61.65476455, 103.72917942, 144.92853112,\n",
       "       185.06842509])"
      ]
     },
     "execution_count": 159,
     "metadata": {},
     "output_type": "execute_result"
    }
   ],
   "source": [
    "# Estimate AC power from DC power using the Sandia Model\n",
    "ac_power = pvlib.inverter.sandia(iv_values1['v_mp'], # DC voltage input to the inverter\n",
    "                                 iv_values1['p_mp'], # DC power input to the inverter\n",
    "                                 inverter_data) # Parameters for the inverter \n",
    "# Estimated Power Output\n",
    "ac_power"
   ]
  },
  {
   "cell_type": "code",
   "execution_count": 228,
   "id": "5644c9f9",
   "metadata": {
    "scrolled": true
   },
   "outputs": [
    {
     "data": {
      "text/html": [
       "<div>\n",
       "<style scoped>\n",
       "    .dataframe tbody tr th:only-of-type {\n",
       "        vertical-align: middle;\n",
       "    }\n",
       "\n",
       "    .dataframe tbody tr th {\n",
       "        vertical-align: top;\n",
       "    }\n",
       "\n",
       "    .dataframe thead th {\n",
       "        text-align: right;\n",
       "    }\n",
       "</style>\n",
       "<table border=\"1\" class=\"dataframe\">\n",
       "  <thead>\n",
       "    <tr style=\"text-align: right;\">\n",
       "      <th></th>\n",
       "      <th>Unnamed: 0</th>\n",
       "      <th>Year</th>\n",
       "      <th>DOY</th>\n",
       "      <th>PST</th>\n",
       "      <th>Unnamed: 4</th>\n",
       "      <th>Direct NIP [W/m^2]</th>\n",
       "      <th>Diffuse Schenk [W/m^2]</th>\n",
       "      <th>Global LI-200 [W/m^2]</th>\n",
       "      <th>Relative Humidity [%]</th>\n",
       "      <th>Air Temperature [deg C]</th>\n",
       "      <th>...</th>\n",
       "      <th>CHP1 Temp [deg K]</th>\n",
       "      <th>CMP22 Temp [deg K]</th>\n",
       "      <th>Avg Wind Direction @ 10m [deg from N]</th>\n",
       "      <th>Zenith Angle [degrees]</th>\n",
       "      <th>Azimuth Angle [degrees]</th>\n",
       "      <th>Airmass</th>\n",
       "      <th>Solar Eclipse Shading</th>\n",
       "      <th>Direct SAMPA/Bird (calc) [W/m^2]</th>\n",
       "      <th>Global SAMPA/Bird (calc) [W/m^2]</th>\n",
       "      <th>Diffuse SAMPA/Bird (calc) [W/m^2]</th>\n",
       "    </tr>\n",
       "  </thead>\n",
       "  <tbody>\n",
       "    <tr>\n",
       "      <th>2021-06-01 00:00:00-08:00</th>\n",
       "      <td>0</td>\n",
       "      <td>2021</td>\n",
       "      <td>152</td>\n",
       "      <td>0</td>\n",
       "      <td>-7999</td>\n",
       "      <td>-0.453</td>\n",
       "      <td>-1.129</td>\n",
       "      <td>0.157</td>\n",
       "      <td>58.95</td>\n",
       "      <td>19.89</td>\n",
       "      <td>...</td>\n",
       "      <td>292.8</td>\n",
       "      <td>294.6</td>\n",
       "      <td>41.59</td>\n",
       "      <td>113.81644</td>\n",
       "      <td>357.43310</td>\n",
       "      <td>-1.0</td>\n",
       "      <td>0</td>\n",
       "      <td>0.0</td>\n",
       "      <td>0.0</td>\n",
       "      <td>0.0</td>\n",
       "    </tr>\n",
       "    <tr>\n",
       "      <th>2021-06-01 00:01:00-08:00</th>\n",
       "      <td>0</td>\n",
       "      <td>2021</td>\n",
       "      <td>152</td>\n",
       "      <td>1</td>\n",
       "      <td>-7999</td>\n",
       "      <td>-0.482</td>\n",
       "      <td>-1.150</td>\n",
       "      <td>0.154</td>\n",
       "      <td>59.13</td>\n",
       "      <td>19.79</td>\n",
       "      <td>...</td>\n",
       "      <td>292.8</td>\n",
       "      <td>294.6</td>\n",
       "      <td>64.06</td>\n",
       "      <td>113.82399</td>\n",
       "      <td>357.68613</td>\n",
       "      <td>-1.0</td>\n",
       "      <td>0</td>\n",
       "      <td>0.0</td>\n",
       "      <td>0.0</td>\n",
       "      <td>0.0</td>\n",
       "    </tr>\n",
       "    <tr>\n",
       "      <th>2021-06-01 00:02:00-08:00</th>\n",
       "      <td>0</td>\n",
       "      <td>2021</td>\n",
       "      <td>152</td>\n",
       "      <td>2</td>\n",
       "      <td>-7999</td>\n",
       "      <td>-0.575</td>\n",
       "      <td>-1.174</td>\n",
       "      <td>0.134</td>\n",
       "      <td>59.76</td>\n",
       "      <td>19.70</td>\n",
       "      <td>...</td>\n",
       "      <td>292.7</td>\n",
       "      <td>294.5</td>\n",
       "      <td>63.20</td>\n",
       "      <td>113.83076</td>\n",
       "      <td>357.93921</td>\n",
       "      <td>-1.0</td>\n",
       "      <td>0</td>\n",
       "      <td>0.0</td>\n",
       "      <td>0.0</td>\n",
       "      <td>0.0</td>\n",
       "    </tr>\n",
       "  </tbody>\n",
       "</table>\n",
       "<p>3 rows × 29 columns</p>\n",
       "</div>"
      ],
      "text/plain": [
       "                           Unnamed: 0  Year  DOY  PST  Unnamed: 4  \\\n",
       "2021-06-01 00:00:00-08:00           0  2021  152    0       -7999   \n",
       "2021-06-01 00:01:00-08:00           0  2021  152    1       -7999   \n",
       "2021-06-01 00:02:00-08:00           0  2021  152    2       -7999   \n",
       "\n",
       "                           Direct NIP [W/m^2]  Diffuse Schenk [W/m^2]  \\\n",
       "2021-06-01 00:00:00-08:00              -0.453                  -1.129   \n",
       "2021-06-01 00:01:00-08:00              -0.482                  -1.150   \n",
       "2021-06-01 00:02:00-08:00              -0.575                  -1.174   \n",
       "\n",
       "                           Global LI-200 [W/m^2]  Relative Humidity [%]  \\\n",
       "2021-06-01 00:00:00-08:00                  0.157                  58.95   \n",
       "2021-06-01 00:01:00-08:00                  0.154                  59.13   \n",
       "2021-06-01 00:02:00-08:00                  0.134                  59.76   \n",
       "\n",
       "                           Air Temperature [deg C]  ...  CHP1 Temp [deg K]  \\\n",
       "2021-06-01 00:00:00-08:00                    19.89  ...              292.8   \n",
       "2021-06-01 00:01:00-08:00                    19.79  ...              292.8   \n",
       "2021-06-01 00:02:00-08:00                    19.70  ...              292.7   \n",
       "\n",
       "                           CMP22 Temp [deg K]  \\\n",
       "2021-06-01 00:00:00-08:00               294.6   \n",
       "2021-06-01 00:01:00-08:00               294.6   \n",
       "2021-06-01 00:02:00-08:00               294.5   \n",
       "\n",
       "                           Avg Wind Direction @ 10m [deg from N]  \\\n",
       "2021-06-01 00:00:00-08:00                                  41.59   \n",
       "2021-06-01 00:01:00-08:00                                  64.06   \n",
       "2021-06-01 00:02:00-08:00                                  63.20   \n",
       "\n",
       "                           Zenith Angle [degrees]  Azimuth Angle [degrees]  \\\n",
       "2021-06-01 00:00:00-08:00               113.81644                357.43310   \n",
       "2021-06-01 00:01:00-08:00               113.82399                357.68613   \n",
       "2021-06-01 00:02:00-08:00               113.83076                357.93921   \n",
       "\n",
       "                           Airmass  Solar Eclipse Shading  \\\n",
       "2021-06-01 00:00:00-08:00     -1.0                      0   \n",
       "2021-06-01 00:01:00-08:00     -1.0                      0   \n",
       "2021-06-01 00:02:00-08:00     -1.0                      0   \n",
       "\n",
       "                           Direct SAMPA/Bird (calc) [W/m^2]  \\\n",
       "2021-06-01 00:00:00-08:00                               0.0   \n",
       "2021-06-01 00:01:00-08:00                               0.0   \n",
       "2021-06-01 00:02:00-08:00                               0.0   \n",
       "\n",
       "                           Global SAMPA/Bird (calc) [W/m^2]  \\\n",
       "2021-06-01 00:00:00-08:00                               0.0   \n",
       "2021-06-01 00:01:00-08:00                               0.0   \n",
       "2021-06-01 00:02:00-08:00                               0.0   \n",
       "\n",
       "                           Diffuse SAMPA/Bird (calc) [W/m^2]  \n",
       "2021-06-01 00:00:00-08:00                                0.0  \n",
       "2021-06-01 00:01:00-08:00                                0.0  \n",
       "2021-06-01 00:02:00-08:00                                0.0  \n",
       "\n",
       "[3 rows x 29 columns]"
      ]
     },
     "execution_count": 228,
     "metadata": {},
     "output_type": "execute_result"
    }
   ],
   "source": [
    "#Irradiance to Power Conversion\n",
    "# Let's read the weather data from NREL Weather station https://midcdmz.nrel.gov/apps/data_api_doc.pl?_idtextlist\n",
    "\n",
    "df_weather = pvlib.iotools.read_midc_raw_data_from_nrel('UOSMRL',               # Station id(cal poly) \n",
    "                                                    pd.Timestamp('20210601'),   # Start date YYYYMMDD\n",
    "                                                    pd.Timestamp('20210601'))   # End date  YYYYMMDD\n",
    "\n",
    "# Let's see the head, shape and columns of the data\n",
    "df_weather.head(3)\n"
   ]
  },
  {
   "cell_type": "code",
   "execution_count": 229,
   "id": "e24a804a",
   "metadata": {},
   "outputs": [
    {
     "data": {
      "text/html": [
       "<div>\n",
       "<style scoped>\n",
       "    .dataframe tbody tr th:only-of-type {\n",
       "        vertical-align: middle;\n",
       "    }\n",
       "\n",
       "    .dataframe tbody tr th {\n",
       "        vertical-align: top;\n",
       "    }\n",
       "\n",
       "    .dataframe thead th {\n",
       "        text-align: right;\n",
       "    }\n",
       "</style>\n",
       "<table border=\"1\" class=\"dataframe\">\n",
       "  <thead>\n",
       "    <tr style=\"text-align: right;\">\n",
       "      <th></th>\n",
       "      <th>ghi</th>\n",
       "      <th>dhi</th>\n",
       "      <th>dni</th>\n",
       "      <th>temp_air</th>\n",
       "      <th>wind_speed</th>\n",
       "    </tr>\n",
       "  </thead>\n",
       "  <tbody>\n",
       "    <tr>\n",
       "      <th>2021-06-01 00:00:00-08:00</th>\n",
       "      <td>-0.391</td>\n",
       "      <td>-1.129</td>\n",
       "      <td>0.425</td>\n",
       "      <td>19.89</td>\n",
       "      <td>0.200</td>\n",
       "    </tr>\n",
       "    <tr>\n",
       "      <th>2021-06-01 00:01:00-08:00</th>\n",
       "      <td>-0.391</td>\n",
       "      <td>-1.150</td>\n",
       "      <td>0.411</td>\n",
       "      <td>19.79</td>\n",
       "      <td>0.312</td>\n",
       "    </tr>\n",
       "    <tr>\n",
       "      <th>2021-06-01 00:02:00-08:00</th>\n",
       "      <td>-0.401</td>\n",
       "      <td>-1.174</td>\n",
       "      <td>0.425</td>\n",
       "      <td>19.70</td>\n",
       "      <td>0.250</td>\n",
       "    </tr>\n",
       "  </tbody>\n",
       "</table>\n",
       "</div>"
      ],
      "text/plain": [
       "                             ghi    dhi    dni  temp_air  wind_speed\n",
       "2021-06-01 00:00:00-08:00 -0.391 -1.129  0.425     19.89       0.200\n",
       "2021-06-01 00:01:00-08:00 -0.391 -1.150  0.411     19.79       0.312\n",
       "2021-06-01 00:02:00-08:00 -0.401 -1.174  0.425     19.70       0.250"
      ]
     },
     "execution_count": 229,
     "metadata": {},
     "output_type": "execute_result"
    }
   ],
   "source": [
    "df_weather = df_weather[['Global CMP22 [W/m^2]', 'Diffuse Schenk [W/m^2]', \n",
    "                         'Direct CHP1 [W/m^2]','Air Temperature [deg C]', 'Avg Wind Speed @ 10m [m/s]']]\n",
    "# Rename the columns\n",
    "df_weather.columns = ['ghi', 'dhi', 'dni', 'temp_air', 'wind_speed']\n",
    "# See the first columns of our weather dataset\n",
    "\n",
    "df_weather.head(3)"
   ]
  },
  {
   "cell_type": "code",
   "execution_count": 230,
   "id": "792e82cf",
   "metadata": {},
   "outputs": [
    {
     "data": {
      "text/plain": [
       "ModelChain: \n",
       "  name: AssessingSolar_PV\n",
       "  clearsky_model: ineichen\n",
       "  transposition_model: haydavies\n",
       "  solar_position_method: nrel_numpy\n",
       "  airmass_model: kastenyoung1989\n",
       "  dc_model: cec\n",
       "  ac_model: sandia_inverter\n",
       "  aoi_model: no_aoi_loss\n",
       "  spectral_model: no_spectral_loss\n",
       "  temperature_model: sapm_temp\n",
       "  losses_model: no_extra_losses"
      ]
     },
     "execution_count": 230,
     "metadata": {},
     "output_type": "execute_result"
    }
   ],
   "source": [
    "#DEFINING CHARACTERISTICS OF PV SYSTEM\n",
    "\n",
    "# Coordinates \n",
    "latitude = 35\n",
    "longitude = 117\n",
    "altitude = 600\n",
    "\n",
    "# Define the location object\n",
    "location = pvlib.location.Location(latitude, longitude, altitude=altitude)\n",
    "\n",
    "# Define Temperature Paremeters \n",
    "temperature_model_parameters = pvlib.temperature.TEMPERATURE_MODEL_PARAMETERS['sapm']['open_rack_glass_glass']\n",
    "\n",
    "# Define the PV Module and the Inverter from the CEC databases (random)\n",
    "module_data = cec_mod_db.iloc[:,0]\n",
    "inverter_data = invdb.iloc[:, np.random.randint(0, high=len(invdb))]\n",
    "\n",
    "# Define the basics of the class PVSystem\n",
    "system = pvlib.pvsystem.PVSystem(surface_tilt=30, surface_azimuth=180,\n",
    "                                 module_parameters=module_data,\n",
    "                                 inverter_parameters=inverter_data,\n",
    "                                 temperature_model_parameters=temperature_model_parameters)\n",
    "\n",
    "# Creation of the ModelChain object\n",
    "\"\"\" The example does not consider AOI losses nor irradiance spectral losses\"\"\"\n",
    "mc = pvlib.modelchain.ModelChain(system, location, \n",
    "                                 aoi_model='no_loss', \n",
    "                                 spectral_model='no_loss',\n",
    "                                 name='AssessingSolar_PV')\n",
    "\n",
    "# Pass the weather data to the model\n",
    "\"\"\" \n",
    "The weather DataFrame must include the irradiance components with the names 'dni', 'ghi', and 'dhi'. \n",
    "The air temperature named 'temp_air' in degree Celsius and wind speed 'wind_speed' in m/s are optional.\n",
    "\"\"\"\n",
    "mc.run_model(df_weather) "
   ]
  },
  {
   "cell_type": "code",
   "execution_count": 231,
   "id": "21ebf1ab",
   "metadata": {},
   "outputs": [
    {
     "data": {
      "text/html": [
       "<div>\n",
       "<style scoped>\n",
       "    .dataframe tbody tr th:only-of-type {\n",
       "        vertical-align: middle;\n",
       "    }\n",
       "\n",
       "    .dataframe tbody tr th {\n",
       "        vertical-align: top;\n",
       "    }\n",
       "\n",
       "    .dataframe thead th {\n",
       "        text-align: right;\n",
       "    }\n",
       "</style>\n",
       "<table border=\"1\" class=\"dataframe\">\n",
       "  <thead>\n",
       "    <tr style=\"text-align: right;\">\n",
       "      <th></th>\n",
       "      <th>poa_global</th>\n",
       "      <th>poa_direct</th>\n",
       "      <th>poa_diffuse</th>\n",
       "      <th>poa_sky_diffuse</th>\n",
       "      <th>poa_ground_diffuse</th>\n",
       "    </tr>\n",
       "  </thead>\n",
       "  <tbody>\n",
       "    <tr>\n",
       "      <th>2021-06-01 00:00:00-08:00</th>\n",
       "      <td>0.218024</td>\n",
       "      <td>0.224572</td>\n",
       "      <td>-0.006548</td>\n",
       "      <td>0.0</td>\n",
       "      <td>-0.006548</td>\n",
       "    </tr>\n",
       "    <tr>\n",
       "      <th>2021-06-01 00:01:00-08:00</th>\n",
       "      <td>0.209229</td>\n",
       "      <td>0.215777</td>\n",
       "      <td>-0.006548</td>\n",
       "      <td>0.0</td>\n",
       "      <td>-0.006548</td>\n",
       "    </tr>\n",
       "    <tr>\n",
       "      <th>2021-06-01 00:02:00-08:00</th>\n",
       "      <td>0.214963</td>\n",
       "      <td>0.221678</td>\n",
       "      <td>-0.006715</td>\n",
       "      <td>0.0</td>\n",
       "      <td>-0.006715</td>\n",
       "    </tr>\n",
       "    <tr>\n",
       "      <th>2021-06-01 00:03:00-08:00</th>\n",
       "      <td>0.213292</td>\n",
       "      <td>0.220225</td>\n",
       "      <td>-0.006933</td>\n",
       "      <td>0.0</td>\n",
       "      <td>-0.006933</td>\n",
       "    </tr>\n",
       "    <tr>\n",
       "      <th>2021-06-01 00:04:00-08:00</th>\n",
       "      <td>0.211734</td>\n",
       "      <td>0.218768</td>\n",
       "      <td>-0.007034</td>\n",
       "      <td>0.0</td>\n",
       "      <td>-0.007034</td>\n",
       "    </tr>\n",
       "    <tr>\n",
       "      <th>...</th>\n",
       "      <td>...</td>\n",
       "      <td>...</td>\n",
       "      <td>...</td>\n",
       "      <td>...</td>\n",
       "      <td>...</td>\n",
       "    </tr>\n",
       "    <tr>\n",
       "      <th>2021-06-01 23:55:00-08:00</th>\n",
       "      <td>0.226829</td>\n",
       "      <td>0.231836</td>\n",
       "      <td>-0.005007</td>\n",
       "      <td>0.0</td>\n",
       "      <td>-0.005007</td>\n",
       "    </tr>\n",
       "    <tr>\n",
       "      <th>2021-06-01 23:56:00-08:00</th>\n",
       "      <td>0.225473</td>\n",
       "      <td>0.230413</td>\n",
       "      <td>-0.004940</td>\n",
       "      <td>0.0</td>\n",
       "      <td>-0.004940</td>\n",
       "    </tr>\n",
       "    <tr>\n",
       "      <th>2021-06-01 23:57:00-08:00</th>\n",
       "      <td>0.223962</td>\n",
       "      <td>0.228986</td>\n",
       "      <td>-0.005024</td>\n",
       "      <td>0.0</td>\n",
       "      <td>-0.005024</td>\n",
       "    </tr>\n",
       "    <tr>\n",
       "      <th>2021-06-01 23:58:00-08:00</th>\n",
       "      <td>0.222548</td>\n",
       "      <td>0.227555</td>\n",
       "      <td>-0.005007</td>\n",
       "      <td>0.0</td>\n",
       "      <td>-0.005007</td>\n",
       "    </tr>\n",
       "    <tr>\n",
       "      <th>2021-06-01 23:59:00-08:00</th>\n",
       "      <td>0.221515</td>\n",
       "      <td>0.226120</td>\n",
       "      <td>-0.004605</td>\n",
       "      <td>0.0</td>\n",
       "      <td>-0.004605</td>\n",
       "    </tr>\n",
       "  </tbody>\n",
       "</table>\n",
       "<p>1437 rows × 5 columns</p>\n",
       "</div>"
      ],
      "text/plain": [
       "                           poa_global  poa_direct  poa_diffuse  \\\n",
       "2021-06-01 00:00:00-08:00    0.218024    0.224572    -0.006548   \n",
       "2021-06-01 00:01:00-08:00    0.209229    0.215777    -0.006548   \n",
       "2021-06-01 00:02:00-08:00    0.214963    0.221678    -0.006715   \n",
       "2021-06-01 00:03:00-08:00    0.213292    0.220225    -0.006933   \n",
       "2021-06-01 00:04:00-08:00    0.211734    0.218768    -0.007034   \n",
       "...                               ...         ...          ...   \n",
       "2021-06-01 23:55:00-08:00    0.226829    0.231836    -0.005007   \n",
       "2021-06-01 23:56:00-08:00    0.225473    0.230413    -0.004940   \n",
       "2021-06-01 23:57:00-08:00    0.223962    0.228986    -0.005024   \n",
       "2021-06-01 23:58:00-08:00    0.222548    0.227555    -0.005007   \n",
       "2021-06-01 23:59:00-08:00    0.221515    0.226120    -0.004605   \n",
       "\n",
       "                           poa_sky_diffuse  poa_ground_diffuse  \n",
       "2021-06-01 00:00:00-08:00              0.0           -0.006548  \n",
       "2021-06-01 00:01:00-08:00              0.0           -0.006548  \n",
       "2021-06-01 00:02:00-08:00              0.0           -0.006715  \n",
       "2021-06-01 00:03:00-08:00              0.0           -0.006933  \n",
       "2021-06-01 00:04:00-08:00              0.0           -0.007034  \n",
       "...                                    ...                 ...  \n",
       "2021-06-01 23:55:00-08:00              0.0           -0.005007  \n",
       "2021-06-01 23:56:00-08:00              0.0           -0.004940  \n",
       "2021-06-01 23:57:00-08:00              0.0           -0.005024  \n",
       "2021-06-01 23:58:00-08:00              0.0           -0.005007  \n",
       "2021-06-01 23:59:00-08:00              0.0           -0.004605  \n",
       "\n",
       "[1437 rows x 5 columns]"
      ]
     },
     "execution_count": 231,
     "metadata": {},
     "output_type": "execute_result"
    }
   ],
   "source": [
    "mc.results.total_irrad"
   ]
  },
  {
   "cell_type": "code",
   "execution_count": 236,
   "id": "38d615d2",
   "metadata": {},
   "outputs": [
    {
     "data": {
      "image/png": "[encoded data removed]",
      "text/plain": [
       "<Figure size 504x288 with 1 Axes>"
      ]
     },
     "metadata": {
      "needs_background": "light"
     },
     "output_type": "display_data"
    }
   ],
   "source": [
    "from matplotlib.dates import DateFormatter\n",
    "\n",
    "# Define labels of variables to plot and colors \n",
    "irrad_labels = ['ghi', 'dni', 'dhi']\n",
    "poa_labels = ['poa_global', 'poa_direct', 'poa_diffuse']\n",
    "colors = ['green', 'orange', 'blue']\n",
    "\n",
    "# Plot of Irradiance Variables\n",
    "fig, ax = plt.subplots(figsize=(7, 4))\n",
    "\n",
    "for i in range(len(irrad_labels)):\n",
    "    mc.results.weather[irrad_labels[i]].plot(label=irrad_labels[i].upper(), color=colors[i])\n",
    "    #ax = mc.results.total_irrad[poa_labels[i]].plot(label=poa_labels[i].upper().replace('_', ' '), color=colors[i], ls='--')\n",
    "ax.xaxis.set_major_formatter(DateFormatter(\"%H:%M\"))\n",
    "ax.set_ylabel('Irradiance [W/m$^2$]')\n",
    "ax.set_xlabel('UTC Time [HH:MM]')\n",
    "ax.set_title('Irradiance Components')\n",
    "plt.legend(bbox_to_anchor=(1.02,1))\n",
    "plt.tight_layout()\n",
    "plt.show() "
   ]
  },
  {
   "cell_type": "code",
   "execution_count": 238,
   "id": "90a4e592",
   "metadata": {},
   "outputs": [
    {
     "data": {
      "image/png": "[encoded data removed]",
      "text/plain": [
       "<Figure size 504x216 with 1 Axes>"
      ]
     },
     "metadata": {
      "needs_background": "light"
     },
     "output_type": "display_data"
    }
   ],
   "source": [
    "# Plot of Power Output \n",
    "fig, ax = plt.subplots(figsize=(7, 3))\n",
    "\n",
    "mc.results.dc['p_mp'].plot(label='DC power')\n",
    "ax = mc.results.ac.plot(label='AC power')\n",
    "ax.xaxis.set_major_formatter(DateFormatter(\"%H:%M\"))\n",
    "ax.set_ylabel('Power [W]')\n",
    "ax.set_xlabel('UTC Time [HH:MM]')\n",
    "ax.set_title('Power Output of PV System')\n",
    "plt.legend()\n",
    "plt.tight_layout()\n",
    "plt.show() "
   ]
  },
  {
   "cell_type": "code",
   "execution_count": 243,
   "id": "f4c7756f",
   "metadata": {},
   "outputs": [
    {
     "data": {
      "text/plain": [
       "-0.1"
      ]
     },
     "execution_count": 243,
     "metadata": {},
     "output_type": "execute_result"
    }
   ],
   "source": []
  }
 ],
 "metadata": {
  "kernelspec": {
   "display_name": "Python 3 (ipykernel)",
   "language": "python",
   "name": "python3"
  },
  "language_info": {
   "codemirror_mode": {
    "name": "ipython",
    "version": 3
   },
   "file_extension": ".py",
   "mimetype": "text/x-python",
   "name": "python",
   "nbconvert_exporter": "python",
   "pygments_lexer": "ipython3",
   "version": "3.9.10"
  }
 },
 "nbformat": 4,
 "nbformat_minor": 5
}
