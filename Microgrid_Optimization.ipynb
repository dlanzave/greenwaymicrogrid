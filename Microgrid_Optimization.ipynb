{
 "cells": [
  {
   "cell_type": "code",
   "execution_count": 3,
   "metadata": {
    "colab": {
     "base_uri": "https://localhost:8080/"
    },
    "id": "l4p7CpISfh6l",
    "outputId": "a42d60d0-f144-465d-c9f3-e72f976470f4",
    "scrolled": true
   },
   "outputs": [
    {
     "name": "stdout",
     "output_type": "stream",
     "text": [
      "Collecting cvxpy\n",
      "  Downloading cvxpy-1.1.18-cp39-cp39-macosx_10_9_x86_64.whl (849 kB)\n",
      "\u001b[2K     \u001b[90m━━━━━━━━━━━━━━━━━━━━━━━━━━━━━━━━━━━━━━\u001b[0m \u001b[32m849.1/849.1 KB\u001b[0m \u001b[31m16.6 MB/s\u001b[0m eta \u001b[36m0:00:00\u001b[0m00:01\u001b[0m\n",
      "\u001b[?25hCollecting ecos>=2\n",
      "  Downloading ecos-2.0.10-cp39-cp39-macosx_10_9_x86_64.whl (88 kB)\n",
      "\u001b[2K     \u001b[90m━━━━━━━━━━━━━━━━━━━━━━━━━━━━━━━━━━━━━━━━\u001b[0m \u001b[32m89.0/89.0 KB\u001b[0m \u001b[31m6.4 MB/s\u001b[0m eta \u001b[36m0:00:00\u001b[0m\n",
      "\u001b[?25hRequirement already satisfied: numpy>=1.15 in /Users/daniellelanzavecchia/opt/anaconda3/envs/microgrid/lib/python3.9/site-packages (from cvxpy) (1.22.2)\n",
      "Collecting osqp>=0.4.1\n",
      "  Downloading osqp-0.6.2.post5-cp39-cp39-macosx_10_9_x86_64.whl (249 kB)\n",
      "\u001b[2K     \u001b[90m━━━━━━━━━━━━━━━━━━━━━━━━━━━━━━━━━━━━━━━\u001b[0m \u001b[32m249.5/249.5 KB\u001b[0m \u001b[31m5.5 MB/s\u001b[0m eta \u001b[36m0:00:00\u001b[0m00:01\u001b[0m\n",
      "\u001b[?25hCollecting scs>=1.1.6\n",
      "  Downloading scs-3.2.0-cp39-cp39-macosx_10_9_x86_64.whl (11.4 MB)\n",
      "\u001b[2K     \u001b[90m━━━━━━━━━━━━━━━━━━━━━━━━━━━━━━━━━━━━━━━━\u001b[0m \u001b[32m11.4/11.4 MB\u001b[0m \u001b[31m19.2 MB/s\u001b[0m eta \u001b[36m0:00:00\u001b[0m00:01\u001b[0m00:01\u001b[0m\n",
      "\u001b[?25hRequirement already satisfied: scipy>=1.1.0 in /Users/daniellelanzavecchia/opt/anaconda3/envs/microgrid/lib/python3.9/site-packages (from cvxpy) (1.8.0)\n",
      "Collecting qdldl\n",
      "  Downloading qdldl-0.1.5.post0-cp39-cp39-macosx_10_9_x86_64.whl (87 kB)\n",
      "\u001b[2K     \u001b[90m━━━━━━━━━━━━━━━━━━━━━━━━━━━━━━━━━━━━━━━━\u001b[0m \u001b[32m87.4/87.4 KB\u001b[0m \u001b[31m3.2 MB/s\u001b[0m eta \u001b[36m0:00:00\u001b[0m\n",
      "\u001b[?25hInstalling collected packages: scs, qdldl, ecos, osqp, cvxpy\n",
      "Successfully installed cvxpy-1.1.18 ecos-2.0.10 osqp-0.6.2.post5 qdldl-0.1.5.post0 scs-3.2.0\n"
     ]
    }
   ],
   "source": [
    "!pip install cvxpy"
   ]
  },
  {
   "cell_type": "code",
   "execution_count": 5,
   "metadata": {
    "id": "pVV0Xd1NiYGA"
   },
   "outputs": [],
   "source": [
    "import numpy as np\n",
    "import csv\n",
    "import matplotlib.pyplot as plt\n",
    "import math\n",
    "import random\n",
    "import pandas as pd\n",
    "\n",
    "import seaborn as sns\n",
    "from __future__ import division\n",
    "import time\n",
    "from cvxpy import *\n",
    "\n",
    "\n",
    "%matplotlib inline"
   ]
  },
  {
   "cell_type": "code",
   "execution_count": 6,
   "metadata": {
    "id": "D1TwAUDgKMiY"
   },
   "outputs": [],
   "source": [
    "sns.set_style({'axes.linewidth': 1, 'axes.edgecolor':'black', 'xtick.direction': \\\n",
    "               'out', 'xtick.major.size': 4.0, 'ytick.direction': 'out', 'ytick.major.size': 4.0, \\\n",
    "              'axes.facecolor': 'white','grid.color': '.8', 'grid.linestyle': u'-', 'grid.linewidth': 0.5})"
   ]
  },
  {
   "cell_type": "code",
   "execution_count": 22,
   "metadata": {
    "colab": {
     "base_uri": "https://localhost:8080/"
    },
    "id": "qxFTruxGpDBT",
    "outputId": "a14b94ed-88ed-4574-e74c-84e074c78bf5"
   },
   "outputs": [
    {
     "name": "stdout",
     "output_type": "stream",
     "text": [
      "    ID  B_bar    B_P  eta_b_c  eta_b_d\n",
      "0    1    200   50.0     0.95     0.95\n",
      "1    2    300   75.0     0.95     0.95\n",
      "2    3    600  150.0     0.95     0.95\n",
      "3    4    100   25.0     0.95     0.95\n",
      "4    5    100   25.0     0.95     0.95\n",
      "5    6     10    2.5     0.95     0.95\n",
      "6    7   1500  375.0     0.95     0.95\n",
      "7    8    400  100.0     0.95     0.95\n",
      "8    9     10    2.5     0.95     0.95\n",
      "9   10    100   25.0     0.95     0.95\n",
      "10  11    300   75.0     0.95     0.95\n",
      "11  12   1200  300.0     0.95     0.95\n",
      "12  13     20    5.0     0.95     0.95\n",
      "13  14   3000  750.0     0.95     0.95\n",
      "14  15    800  200.0     0.95     0.95\n"
     ]
    }
   ],
   "source": [
    "\n",
    "\n",
    "Battery_Data = pd.read_csv('./BattData.csv')\n",
    "\n",
    "# get_all_values gives a list of rows.\n",
    "\n",
    "\n",
    "battdata = np.array(Battery_Data.values)\n",
    "\n",
    "bat_ID = battdata[:,0]\n",
    "B_bar = battdata[:,1]\n",
    "B_P = battdata[:,2]\n",
    "eta_b_c = battdata[:,3]\n",
    "eta_b_d = battdata[:,4]\n",
    "print(Battery_Data)\n",
    "\n",
    "\n",
    "\n"
   ]
  },
  {
   "cell_type": "code",
   "execution_count": 21,
   "metadata": {
    "colab": {
     "base_uri": "https://localhost:8080/"
    },
    "id": "DRe0IBqVqlui",
    "outputId": "6014a432-0f93-458a-ecf2-235df6841090"
   },
   "outputs": [
    {
     "name": "stdout",
     "output_type": "stream",
     "text": [
      "ID           1.00\n",
      "B_bar      200.00\n",
      "B_P         50.00\n",
      "eta_b_c      0.95\n",
      "eta_b_d      0.95\n",
      "Name: 0, dtype: float64\n"
     ]
    }
   ],
   "source": [
    "#Select Batteries being used in model; ID corresponds to row\n",
    "ID=1\n",
    "BattParam=Battery_Data.loc[ID-1] \n",
    "print(BattParam)\n"
   ]
  },
  {
   "cell_type": "code",
   "execution_count": 23,
   "metadata": {
    "id": "3QbPV8rdtLNm"
   },
   "outputs": [],
   "source": [
    "class Battery(object):\n",
    "    \"\"\" Used to store information about the battery.\n",
    "       :param current_charge: is the initial state of charge of the battery\n",
    "       :param capacity: is the battery capacity in kWh\n",
    "       :param charging_power_limit: the limit of the power that can charge the battery in kW\n",
    "       :param discharging_power_limit: the limit of the power that can discharge the battery in kW\n",
    "       :param battery_charging_efficiency: The efficiecny of the battery when charging\n",
    "       :param battery_discharing_efficiecny: The discharging efficiency\n",
    "    \"\"\"\n",
    "    def __init__(self,\n",
    "                 current_charge=0.0,\n",
    "                 capacity=0.0,\n",
    "                 charging_power_limit=1.0,\n",
    "                 discharging_power_limit=-1.0,\n",
    "                 charging_efficiency=0.95,\n",
    "                 discharging_efficiency=0.95):\n",
    "        self.current_charge = current_charge\n",
    "        self.capacity = capacity\n",
    "        self.charging_power_limit = charging_power_limit\n",
    "        self.discharging_power_limit = discharging_power_limit\n",
    "        self.charging_efficiency = charging_efficiency\n",
    "        self.discharging_efficiency = discharging_efficiency"
   ]
  },
  {
   "cell_type": "code",
   "execution_count": 24,
   "metadata": {
    "colab": {
     "base_uri": "https://localhost:8080/"
    },
    "id": "nXkesda8uR-N",
    "outputId": "f65475d3-52be-4f06-fcd8-fed691be7411"
   },
   "outputs": [
    {
     "data": {
      "text/plain": [
       "200.0"
      ]
     },
     "execution_count": 24,
     "metadata": {},
     "output_type": "execute_result"
    }
   ],
   "source": [
    "batt_id = 1\n",
    "# use battery class to store information\n",
    "batt = Battery(capacity=BattParam[\"B_bar\"], charging_power_limit=BattParam[\"B_P\"], \n",
    "               discharging_power_limit=-1*BattParam[\"B_P\"], \n",
    "               charging_efficiency=BattParam[\"eta_b_c\"], \n",
    "               discharging_efficiency=BattParam[\"eta_b_d\"])\n",
    "\n",
    "batt.capacity"
   ]
  },
  {
   "cell_type": "code",
   "execution_count": 26,
   "metadata": {
    "colab": {
     "base_uri": "https://localhost:8080/"
    },
    "id": "Kr-qa_dyHjDP",
    "outputId": "2dad16b9-cce3-4070-b71b-9a59e07c88ed"
   },
   "outputs": [
    {
     "name": "stdout",
     "output_type": "stream",
     "text": [
      "     Time  PV_Output  Demand_kW  Grid_Cost\n",
      "0    0:00        0.0       0.12       0.01\n",
      "1    0:15        0.0       0.12       0.01\n",
      "2    0:30        0.0       0.12       0.01\n",
      "3    0:45        0.0       0.12       0.01\n",
      "4    1:00        0.0       0.16       0.01\n",
      "..    ...        ...        ...        ...\n",
      "91  22:45        0.0       0.20       0.01\n",
      "92  23:00        0.0       0.16       0.01\n",
      "93  23:15        0.0       0.16       0.01\n",
      "94  23:30        0.0       0.16       0.01\n",
      "95  23:45        0.0       0.16       0.01\n",
      "\n",
      "[96 rows x 4 columns]\n"
     ]
    }
   ],
   "source": [
    "User_PV_Data = pd.read_csv('./Solar_Demand.csv')\n",
    "\n",
    "# get_all_values gives a list of rows.\n",
    "\n",
    "\n",
    "userdata = np.array(User_PV_Data.values)\n",
    "\n",
    "\n",
    "print(User_PV_Data)"
   ]
  },
  {
   "cell_type": "code",
   "execution_count": 27,
   "metadata": {
    "id": "_b5w9DhuHgKL"
   },
   "outputs": [],
   "source": [
    "Demand_kW = userdata[:,2]\n",
    "PV_Output = userdata[:,1]\n",
    "Grid_Cost = userdata[:,3]\n",
    "\n",
    "\n"
   ]
  },
  {
   "cell_type": "code",
   "execution_count": 28,
   "metadata": {
    "colab": {
     "base_uri": "https://localhost:8080/",
     "height": 161
    },
    "id": "QHdJ7JW_KG3T",
    "outputId": "ca63215f-d3fc-4acd-bf3c-d19c8e4648e1"
   },
   "outputs": [
    {
     "data": {
      "image/png": "[encoded data removed]",
      "text/plain": [
       "<Figure size 1008x288 with 1 Axes>"
      ]
     },
     "metadata": {
      "needs_background": "light"
     },
     "output_type": "display_data"
    }
   ],
   "source": [
    "colors = sns.color_palette()\n",
    "hrs = np.arange(0,len(Demand_kW))/4\n",
    "fig = plt.figure(figsize=(14,4))\n",
    "ax1 = fig.add_subplot(2,1,1)\n",
    "l1, = ax1.plot(hrs,4*Demand_kW,color=colors[0])\n",
    "l2, = ax1.plot(hrs,4*PV_Output,color=colors[1])\n",
    "ax1.set_xlabel('hour'), ax1.set_ylabel('kW')\n",
    "ax1.legend([l1,l2],['demand','PV'],ncol=2)\n",
    "ax1.set_xlim([0,PV_Output.shape[0]/4]);"
   ]
  },
  {
   "cell_type": "code",
   "execution_count": 35,
   "metadata": {
    "id": "TftIoK_bnMER"
   },
   "outputs": [],
   "source": [
    "# Simulate running time\n",
    "start=time.time()\n",
    "# Three cases considered: Peak, lowest and average solar gains\n",
    "# Peak\n",
    "# title=\"High solar irradiance -\"\n",
    "# start_day=195\n",
    "# end_day=198\n",
    "# start_day=207\n",
    "# end_day=210\n",
    "# Lowest\n",
    "# title=\"Low solar irradiance -\"\n",
    "# start_day=69\n",
    "# end_day=72\n",
    "# Average\n",
    "title=\"Average solar irradiance -\"\n",
    "start_day=12\n",
    "end_day=24\n",
    "# Number of hours in the whole simulation\n",
    "n_hours = (end_day-start_day+1)*24\n"
   ]
  },
  {
   "cell_type": "code",
   "execution_count": 36,
   "metadata": {
    "id": "jlYvJKImYeEU"
   },
   "outputs": [],
   "source": [
    "\n",
    "\n",
    "#  generation cost\n",
    "\n",
    "c_s = 0.00774*n_hours*0.220 # US/array\n",
    "cf_b = 0.00229*n_hours # US/kWh/hour\n",
    "\n",
    "# Emissions factor\n",
    "ef_d = 1940 #(gCO2/kWh)\n",
    "ef_b = 120 #(gCO2/kWh)\n",
    "ef_s = 64 #(gCO2/kWh)"
   ]
  },
  {
   "cell_type": "code",
   "execution_count": 37,
   "metadata": {
    "id": "7OaNTxGwYdB0"
   },
   "outputs": [
    {
     "data": {
      "text/plain": [
       "Variable(())"
      ]
     },
     "execution_count": 37,
     "metadata": {},
     "output_type": "execute_result"
    }
   ],
   "source": [
    "p_d_max = Variable() # 1 dimension\n",
    "p_d = Variable(n_hours) # same length as number of hours\n",
    "n_s = Variable() # 1 dimension\n",
    "Q = Variable() # 1 dimension\n",
    "p_b = Variable(n_hours) # same length as number of hours\n",
    "# Total power provided by solar irradiation is the product of number of array\n",
    "# and power provided by each array\n",
    "p_s = n_s*np.array(PV_Output)\n",
    "#---------------Optimization function------------#\n",
    "# Objective function is to minimize cost. First three terms are fixed costs and\n",
    "# last term is variable cost\n",
    "objective= Minimize(c_s*n_s + cf_b*Q)\n",
    "\n",
    "n_s"
   ]
  },
  {
   "cell_type": "code",
   "execution_count": 38,
   "metadata": {
    "colab": {
     "base_uri": "https://localhost:8080/",
     "height": 133
    },
    "id": "Fuli3f9S0PWi",
    "outputId": "a18144e9-6272-4e07-84b3-3de37bef5cf6"
   },
   "outputs": [
    {
     "ename": "AttributeError",
     "evalue": "'Problem' object has no attribute 'n_hours'",
     "output_type": "error",
     "traceback": [
      "\u001b[0;31m---------------------------------------------------------------------------\u001b[0m",
      "\u001b[0;31mAttributeError\u001b[0m                            Traceback (most recent call last)",
      "Input \u001b[0;32mIn [38]\u001b[0m, in \u001b[0;36m<cell line: 24>\u001b[0;34m()\u001b[0m\n\u001b[1;32m     20\u001b[0m prob1\u001b[38;5;241m.\u001b[39msolve()\n\u001b[1;32m     21\u001b[0m end \u001b[38;5;241m=\u001b[39m time\u001b[38;5;241m.\u001b[39mtime()\n\u001b[0;32m---> 24\u001b[0m \u001b[38;5;28mprint\u001b[39m(\u001b[38;5;124m\"\u001b[39m\u001b[38;5;124mCost($/day)= \u001b[39m\u001b[38;5;132;01m%1.2f\u001b[39;00m\u001b[38;5;124m\"\u001b[39m\u001b[38;5;241m%\u001b[39m(\u001b[43mprob1\u001b[49m\u001b[38;5;241;43m.\u001b[39;49m\u001b[43mn_hours\u001b[49m\u001b[38;5;241m*\u001b[39m\u001b[38;5;241m24\u001b[39m))\n\u001b[1;32m     25\u001b[0m \u001b[38;5;28mprint\u001b[39m(\u001b[38;5;124m\"\u001b[39m\u001b[38;5;124mNumber of arrays= \u001b[39m\u001b[38;5;124m\"\u001b[39m, n_s\u001b[38;5;241m.\u001b[39mvalue)\n\u001b[1;32m     26\u001b[0m \u001b[38;5;28mprint\u001b[39m(\u001b[38;5;124m\"\u001b[39m\u001b[38;5;124mBattery capacity (kWh)=\u001b[39m\u001b[38;5;124m\"\u001b[39m,Q\u001b[38;5;241m.\u001b[39mvalue)\n",
      "\u001b[0;31mAttributeError\u001b[0m: 'Problem' object has no attribute 'n_hours'"
     ]
    }
   ],
   "source": [
    "#----------------Constraints-------------------#\n",
    "\n",
    "\n",
    "# Battery\n",
    "for h in range (n_hours):\n",
    " # The battery discharge at any time is less than the total battery charge up to\n",
    " # that time\n",
    " constraints = [p_b[h] <= sum(-p_b[:h]) + Q/2]\n",
    "\n",
    " # The total charge of the battery at any time (including its 50% initial charge)\n",
    " # must be smaller than or equal to its maximum capacity\n",
    " constraints += [sum(-p_b[:h]) + Q/2 <= Q]\n",
    "\n",
    " # The total charge of the battery at any time (including its 50% initial charge)\n",
    " # must be greater than or equal to zero\n",
    " constraints += [sum(-p_b[:h]) + Q/2 >= 0]\n",
    " \n",
    " \n",
    "prob1 = Problem(objective,constraints)\n",
    "prob1.solve()\n",
    "end = time.time()\n",
    "\n",
    "\n",
    "print(\"Cost($/day)= %1.2f\"%(prob1.n_hours*24))\n",
    "print(\"Number of arrays= \", n_s.value)\n",
    "print(\"Battery capacity (kWh)=\",Q.value)\n",
    "\n",
    "print(\"Running time= %1.2f\"%(end-start))\n",
    "\n",
    "\n"
   ]
  },
  {
   "cell_type": "code",
   "execution_count": null,
   "metadata": {
    "colab": {
     "base_uri": "https://localhost:8080/",
     "height": 204
    },
    "id": "68c_vmysHh7H",
    "outputId": "b9e17c7f-d7a0-4dac-c7bc-623b0dae0157"
   },
   "outputs": [
    {
     "ename": "TypeError",
     "evalue": "ignored",
     "output_type": "error",
     "traceback": [
      "\u001b[0;31m---------------------------------------------------------------------------\u001b[0m",
      "\u001b[0;31mTypeError\u001b[0m                                 Traceback (most recent call last)",
      "\u001b[0;32m<ipython-input-42-609455ba3a2c>\u001b[0m in \u001b[0;36m<module>\u001b[0;34m()\u001b[0m\n\u001b[1;32m      2\u001b[0m \u001b[0mSOC_value\u001b[0m\u001b[0;34m=\u001b[0m\u001b[0mnp\u001b[0m\u001b[0;34m.\u001b[0m\u001b[0marray\u001b[0m\u001b[0;34m(\u001b[0m\u001b[0;34m[\u001b[0m\u001b[0;34m]\u001b[0m\u001b[0;34m)\u001b[0m\u001b[0;34m\u001b[0m\u001b[0;34m\u001b[0m\u001b[0m\n\u001b[1;32m      3\u001b[0m \u001b[0;32mfor\u001b[0m \u001b[0mh\u001b[0m \u001b[0;32min\u001b[0m \u001b[0mrange\u001b[0m \u001b[0;34m(\u001b[0m\u001b[0mn_hours\u001b[0m\u001b[0;34m)\u001b[0m\u001b[0;34m:\u001b[0m\u001b[0;34m\u001b[0m\u001b[0;34m\u001b[0m\u001b[0m\n\u001b[0;32m----> 4\u001b[0;31m  \u001b[0mSOC_value\u001b[0m\u001b[0;34m=\u001b[0m\u001b[0mnp\u001b[0m\u001b[0;34m.\u001b[0m\u001b[0mappend\u001b[0m\u001b[0;34m(\u001b[0m\u001b[0mSOC_value\u001b[0m\u001b[0;34m,\u001b[0m \u001b[0;34m-\u001b[0m\u001b[0mp_b\u001b[0m\u001b[0;34m.\u001b[0m\u001b[0mvalue\u001b[0m\u001b[0;34m[\u001b[0m\u001b[0;34m:\u001b[0m\u001b[0mh\u001b[0m\u001b[0;34m]\u001b[0m\u001b[0;34m.\u001b[0m\u001b[0msum\u001b[0m\u001b[0;34m(\u001b[0m\u001b[0;34m)\u001b[0m\u001b[0;34m+\u001b[0m\u001b[0mQ\u001b[0m\u001b[0;34m.\u001b[0m\u001b[0mvalue\u001b[0m\u001b[0;34m/\u001b[0m\u001b[0;36m2\u001b[0m\u001b[0;34m)\u001b[0m\u001b[0;34m\u001b[0m\u001b[0;34m\u001b[0m\u001b[0m\n\u001b[0m",
      "\u001b[0;31mTypeError\u001b[0m: 'NoneType' object is not subscriptable"
     ]
    }
   ],
   "source": [
    "#battery SOC\n",
    "SOC_value=np.array([])\n",
    "for h in range (n_hours):\n",
    " SOC_value=np.append(SOC_value, -p_b.value[:h].sum()+Q.value/2)"
   ]
  },
  {
   "cell_type": "code",
   "execution_count": null,
   "metadata": {
    "colab": {
     "base_uri": "https://localhost:8080/",
     "height": 133
    },
    "id": "5VgkOhGmtazY",
    "outputId": "4f4a0bb8-11fd-447a-e6b2-8905097ad584"
   },
   "outputs": [
    {
     "ename": "SyntaxError",
     "evalue": "ignored",
     "output_type": "error",
     "traceback": [
      "\u001b[0;36m  File \u001b[0;32m\"<ipython-input-43-16675158bc89>\"\u001b[0;36m, line \u001b[0;32m4\u001b[0m\n\u001b[0;31m    plt.title(title + \" Electricity generation and battery state of charge - Nb of days=\u001b[0m\n\u001b[0m                                                                                        ^\u001b[0m\n\u001b[0;31mSyntaxError\u001b[0m\u001b[0;31m:\u001b[0m EOL while scanning string literal\n"
     ]
    }
   ],
   "source": [
    "# Plot Data\n",
    "plt.figure(num=1, figsize=(8, 9), dpi=80, facecolor='w', edgecolor='k')\n",
    "plt.subplot(2,1,1)\n",
    "plt.title(title + \" Electricity generation and battery state of charge - Nb of days=\n",
    "%1.f\"%(n_hours/24))\n",
    "# Plot table\n",
    "plt.plot(np.arange(n_hours),pc.sum(1)[:n_hours],color=\"black\", label='Consumption')\n",
    "plt.plot(np.arange(n_hours),p_d.value[:n_hours],color=\"grey\", label='Diesel')\n",
    "plt.plot(np.arange(n_hours),pos(p_b).value[:n_hours],color=\"green\", label='BatteryDischarging')\n",
    "\n",
    "plt.plot(np.arange(n_hours),-neg(p_b).value[:n_hours],color=\"green\",\n",
    "linestyle='dashed', label='Battery-Charging')\n",
    "plt.plot(np.arange(n_hours),p_s.value[:n_hours],color=\"orange\", label='Solar')\n",
    "plt.legend()\n",
    "plt.ylabel(\"Generation sources (kW)\")\n",
    "plt.subplot(2,1,2)\n",
    "# Plot\n",
    "plt.plot(np.arange(n_hours),SOC_value[:n_hours],color=\"red\", label='SOC')\n",
    "plt.xlabel(\"Time (h)\")\n",
    "plt.ylabel(\"Battery charging (kWh)\")\n",
    "plt.show()"
   ]
  },
  {
   "cell_type": "markdown",
   "metadata": {
    "id": "Oiz-uvbQfnMn"
   },
   "source": []
  }
 ],
 "metadata": {
  "colab": {
   "collapsed_sections": [],
   "name": "Component_Opt.ipynb",
   "provenance": []
  },
  "kernelspec": {
   "display_name": "Python 3 (ipykernel)",
   "language": "python",
   "name": "python3"
  },
  "language_info": {
   "codemirror_mode": {
    "name": "ipython",
    "version": 3
   },
   "file_extension": ".py",
   "mimetype": "text/x-python",
   "name": "python",
   "nbconvert_exporter": "python",
   "pygments_lexer": "ipython3",
   "version": "3.9.10"
  }
 },
 "nbformat": 4,
 "nbformat_minor": 1
}
